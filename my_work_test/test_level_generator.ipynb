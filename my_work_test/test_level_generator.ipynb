{
 "cells": [
  {
   "cell_type": "code",
   "execution_count": null,
   "metadata": {},
   "outputs": [],
   "source": [
    "import gym\n",
    "import minihack\n",
    "import matplotlib.pyplot as plt\n",
    "import IPython.display as display\n",
    "\n",
    "from minihack import LevelGenerator\n",
    "from minihack import RewardManager"
   ]
  },
  {
   "cell_type": "markdown",
   "metadata": {},
   "source": [
    "# EXAMPLE 1"
   ]
  },
  {
   "cell_type": "code",
   "execution_count": null,
   "metadata": {},
   "outputs": [],
   "source": [
    "# Define a 12x12 room and populate it with\n",
    "# different objects, monster and features\n",
    "lvl_gen = LevelGenerator(w=12, h=12)\n",
    "lvl_gen.add_object(\"apple\", \"%\")\n",
    "lvl_gen.add_object(\"dagger\", \")\")\n",
    "lvl_gen.add_trap(name=\"teleport\")\n",
    "lvl_gen.add_sink()\n",
    "lvl_gen.add_monster(\"goblin\")\n",
    "lvl_gen.fill_terrain(\"rect\", \"|\",0, 0, 11, 11)"
   ]
  },
  {
   "cell_type": "code",
   "execution_count": null,
   "metadata": {},
   "outputs": [],
   "source": [
    "# Define a reward manager\n",
    "reward_manager = RewardManager()\n",
    "# +1 reward and termination for eating\n",
    "# an apple or wielding a dagger\n",
    "reward_manager.add_eat_event(\"apple\")\n",
    "reward_manager.add_wield_event(\"dagger\")\n",
    "# -1 reward for standing on a sink\n",
    "# but isn't required for terminating\n",
    "# the episode\n",
    "reward_manager.add_location_event(\"sink\",reward=-1, terminal_required=False)"
   ]
  },
  {
   "cell_type": "code",
   "execution_count": null,
   "metadata": {},
   "outputs": [],
   "source": [
    "env = gym.make(\n",
    "    \"MiniHack-Skill-Custom-v0\",\n",
    "    des_file=lvl_gen.get_des(),\n",
    "    reward_manager=reward_manager,\n",
    "    observation_keys=(\"chars\", \"pixel\")\n",
    ")"
   ]
  },
  {
   "cell_type": "code",
   "execution_count": null,
   "metadata": {},
   "outputs": [],
   "source": [
    "state = env.reset()\n",
    "env.render()"
   ]
  },
  {
   "cell_type": "code",
   "execution_count": null,
   "metadata": {},
   "outputs": [],
   "source": [
    "plt.imshow(state['pixel'][75:300, 450:800])"
   ]
  },
  {
   "cell_type": "code",
   "execution_count": null,
   "metadata": {},
   "outputs": [],
   "source": [
    "plt.imshow(state['chars'][2:20, 30:50])"
   ]
  },
  {
   "cell_type": "markdown",
   "metadata": {},
   "source": [
    "# EXAMPLE 2"
   ]
  },
  {
   "cell_type": "code",
   "execution_count": null,
   "metadata": {},
   "outputs": [],
   "source": [
    "# Define the maze as a string\n",
    "maze = \"\"\"\n",
    "--------------------\n",
    "|.......|.|........|\n",
    "|.-----.|.|.-----|.|\n",
    "|.|...|.|.|......|.|\n",
    "|.|.|.|.|.|-----.|.|\n",
    "|.|.|...|....|.|.|.|\n",
    "|.|.--------.|.|.|.|\n",
    "|.|..........|...|.|\n",
    "|.|--------------|.|\n",
    "|..................|\n",
    "--------------------\n",
    "\"\"\""
   ]
  },
  {
   "cell_type": "code",
   "execution_count": null,
   "metadata": {},
   "outputs": [],
   "source": [
    "# Set a start and goal positions\n",
    "lvl_gen = LevelGenerator(map=maze)\n",
    "lvl_gen.set_start_pos((9, 1))\n",
    "lvl_gen.add_goal_pos((14, 5))\n",
    "# Add a Minotaur at fixed position\n",
    "lvl_gen.add_monster(name=\"minotaur\",place=(19, 9))\n",
    "# Add wand of death\n",
    "lvl_gen.add_object(\"death\", \"/\")"
   ]
  },
  {
   "cell_type": "code",
   "execution_count": null,
   "metadata": {},
   "outputs": [],
   "source": [
    "env = gym.make(\n",
    "    \"MiniHack-Skill-Custom-v0\",\n",
    "    des_file = lvl_gen.get_des(),\n",
    "    observation_keys=(\"chars\", \"pixel\")\n",
    ")"
   ]
  },
  {
   "cell_type": "code",
   "execution_count": null,
   "metadata": {},
   "outputs": [],
   "source": [
    "state = env.reset()\n",
    "env.render()"
   ]
  },
  {
   "cell_type": "code",
   "execution_count": null,
   "metadata": {},
   "outputs": [],
   "source": [
    "plt.imshow(state['pixel'][75:300, 450:800])"
   ]
  },
  {
   "cell_type": "code",
   "execution_count": null,
   "metadata": {},
   "outputs": [],
   "source": [
    "game_map = state['chars']\n",
    "game = state['pixel']"
   ]
  },
  {
   "cell_type": "code",
   "execution_count": null,
   "metadata": {},
   "outputs": [],
   "source": [
    "actions = [2, 2, 2, 2, 1, 1, 1, 2, 2, 3, 3, 3, 3, 3, 3, 3, 3 ,3, 0, 0 ,0, 0, 1, 1, 1, 1, 2, 2, 1, 1, 1, 0, 0, 0, 0, \n",
    "           3, 3, 3, 3, 3, 3, 2, 2, 2, 2, 2, 2, 2, 2, 1, 1, 1, 1, 1, 1, 1, 1, 1, 1, 1, 1, 1, 1, 1, 1, 1]"
   ]
  },
  {
   "cell_type": "code",
   "execution_count": null,
   "metadata": {},
   "outputs": [],
   "source": [
    "# env.step(action) fa muovere il personaggio.\n",
    "# come parametro action è o un intero (0 -> up; 1 -> dx; 2 -> down; 3 -> sx) oppure una lista di interi\n",
    "image = plt.imshow(game[50:300, 500:800])\n",
    "for action in actions:\n",
    "    s, _, _, _ = env.step(action)\n",
    "    display.display(plt.gcf())\n",
    "    display.clear_output(wait=True)\n",
    "    image.set_data(s['pixel'][50:300, 500:800])"
   ]
  }
 ],
 "metadata": {
  "kernelspec": {
   "display_name": "minihack",
   "language": "python",
   "name": "python3"
  },
  "language_info": {
   "codemirror_mode": {
    "name": "ipython",
    "version": 3
   },
   "file_extension": ".py",
   "mimetype": "text/x-python",
   "name": "python",
   "nbconvert_exporter": "python",
   "pygments_lexer": "ipython3",
   "version": "3.8.18"
  }
 },
 "nbformat": 4,
 "nbformat_minor": 2
}
