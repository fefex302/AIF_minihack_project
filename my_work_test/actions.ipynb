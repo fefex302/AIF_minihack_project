{
 "cells": [
  {
   "cell_type": "code",
   "execution_count": null,
   "metadata": {},
   "outputs": [],
   "source": [
    "\"\"\"\n",
    "screen_descriptions: \n",
    "a 21x79x80 tensor of utf-8 encodings of textual descriptions of each cell present in the map. NetHack provides these \n",
    "textual descriptions (which can be accessed by the user by using the describe action on a specific tile).\n",
    "\n",
    "pixel:\n",
    "a representation of the current screen in image form, where each cell is represented by a 16x16x3 image, meaning the \n",
    "entire observation is so 336x1264x3 (with 3 channels for RGB).\n",
    "\n",
    "chars:\n",
    "a 21x79 matrix of the characters representing the map.\n",
    "\n",
    "blstats:\n",
    "a representation of the status line at the bottom of the screen, containing information about the player character's \n",
    "position, health, attributes and other statuses. It comes in the form of a dimension 25 vector.\n",
    "\n",
    "message:\n",
    "the utf-8 encoding of the on-screen message displayed at the top of the screen. It's a 256-dimensional vector.\n",
    "\n",
    "inv_strs:\n",
    "a  55x80 matrix containing utf-8 encodings of textual descriptions of objects present in the current inventory view.\n",
    "\"\"\""
   ]
  },
  {
   "cell_type": "code",
   "execution_count": 1,
   "metadata": {},
   "outputs": [
    {
     "name": "stdout",
     "output_type": "stream",
     "text": [
      "[<CompassDirection.N: 107>, <CompassDirection.E: 108>, <CompassDirection.S: 106>, <CompassDirection.W: 104>, <CompassDirection.NE: 117>, <CompassDirection.SE: 110>, <CompassDirection.SW: 98>, <CompassDirection.NW: 121>, <CompassDirectionLonger.N: 75>, <CompassDirectionLonger.E: 76>, <CompassDirectionLonger.S: 74>, <CompassDirectionLonger.W: 72>, <CompassDirectionLonger.NE: 85>, <CompassDirectionLonger.SE: 78>, <CompassDirectionLonger.SW: 66>, <CompassDirectionLonger.NW: 89>, <MiscDirection.DOWN: 62>, <MiscDirection.WAIT: 46>, <MiscAction.MORE: 13>, <Command.ADJUST: 225>, <Command.APPLY: 97>, <Command.ATTRIBUTES: 24>, <Command.CALL: 67>, <Command.CAST: 90>, <Command.CHAT: 227>, <Command.CLOSE: 99>, <Command.DIP: 228>, <Command.DROP: 100>, <Command.DROPTYPE: 68>, <Command.EAT: 101>, <Command.ENGRAVE: 69>, <Command.ENHANCE: 229>, <Command.ESC: 27>, <Command.FIGHT: 70>, <Command.FIRE: 102>, <Command.FORCE: 230>, <Command.INVENTORY: 105>, <Command.INVENTTYPE: 73>, <Command.INVOKE: 233>, <Command.JUMP: 234>, <Command.KICK: 4>, <Command.LOOK: 58>, <Command.LOOT: 236>, <Command.MONSTER: 237>, <Command.MOVE: 109>, <Command.MOVEFAR: 77>, <Command.OFFER: 239>, <Command.OPEN: 111>, <Command.PAY: 112>, <Command.PICKUP: 44>, <Command.PRAY: 240>, <Command.PUTON: 80>, <Command.QUAFF: 113>, <Command.QUIVER: 81>, <Command.READ: 114>, <Command.REMOVE: 82>, <Command.RIDE: 210>, <Command.RUB: 242>, <Command.RUSH: 103>, <Command.RUSH2: 71>, <Command.SEARCH: 115>, <Command.SEEARMOR: 91>, <Command.SEERINGS: 61>, <Command.SEETOOLS: 40>, <Command.SEETRAP: 94>, <Command.SEEWEAPON: 41>, <Command.SHELL: 33>, <Command.SIT: 243>, <Command.SWAP: 120>, <Command.TAKEOFF: 84>, <Command.TAKEOFFALL: 65>, <Command.THROW: 116>, <Command.TIP: 212>, <Command.TURN: 244>, <Command.TWOWEAPON: 88>, <Command.UNTRAP: 245>, <Command.VERSIONSHORT: 118>, <Command.WEAR: 87>, <Command.WIELD: 119>, <Command.WIPE: 247>, <Command.ZAP: 122>, <TextCharacters.PLUS: 43>, <TextCharacters.QUOTE: 34>, <TextCharacters.DOLLAR: 36>, <TextCharacters.SPACE: 32>]\n"
     ]
    }
   ],
   "source": [
    "# Per stampare gli id di tutte le mosse/azioni possibili in minihack\n",
    "from nle.env.base import FULL_ACTIONS\n",
    "from nle import _pynethack, nethack\n",
    "MH_FULL_ACTIONS = list(FULL_ACTIONS)\n",
    "MH_FULL_ACTIONS.remove(nethack.MiscDirection.UP)\n",
    "print(MH_FULL_ACTIONS)"
   ]
  },
  {
   "cell_type": "code",
   "execution_count": 2,
   "metadata": {},
   "outputs": [
    {
     "data": {
      "text/plain": [
       "85"
      ]
     },
     "execution_count": 2,
     "metadata": {},
     "output_type": "execute_result"
    }
   ],
   "source": [
    "len(MH_FULL_ACTIONS)"
   ]
  },
  {
   "cell_type": "code",
   "execution_count": 3,
   "metadata": {},
   "outputs": [
    {
     "data": {
      "text/plain": [
       "'\\n[0<CompassDirection.N: 107>, \\n 1<CompassDirection.E: 108>, \\n 2<CompassDirection.S: 106>, \\n 3<CompassDirection.W: 104>, \\n 4<CompassDirection.NE: 117>, \\n 5<CompassDirection.SE: 110>, \\n 6<CompassDirection.SW: 98>, \\n 7<CompassDirection.NW: 121>, \\n 8<CompassDirectionLonger.N: 75>, \\n 9<CompassDirectionLonger.E: 76>, \\n 10<CompassDirectionLonger.S: 74>, \\n 11<CompassDirectionLonger.W: 72>, \\n 12<CompassDirectionLonger.NE: 85>, \\n 13<CompassDirectionLonger.SE: 78>, \\n 14<CompassDirectionLonger.SW: 66>, \\n 15<CompassDirectionLonger.NW: 89>, \\n 16<MiscDirection.DOWN: 62>, \\n 17<MiscDirection.WAIT: 46>, \\n 18<MiscAction.MORE: 13>, \\n 19<Command.ADJUST: 225>, \\n 20<Command.APPLY: 97>, \\n 21<Command.ATTRIBUTES: 24>, \\n 22<Command.CALL: 67>, \\n 23<Command.CAST: 90>, \\n 24<Command.CHAT: 227>, \\n 25<Command.CLOSE: 99>, \\n 26<Command.DIP: 228>, \\n 27<Command.DROP: 100>, \\n 28<Command.DROPTYPE: 68>, \\n 29<Command.EAT: 101>, \\n 30<Command.ENGRAVE: 69>, \\n 31<Command.ENHANCE: 229>, \\n 32<Command.ESC: 27>, \\n 33<Command.FIGHT: 70>, \\n 34<Command.FIRE: 102>, \\n 35<Command.FORCE: 230>, \\n 36<Command.INVENTORY: 105>, \\n 37<Command.INVENTTYPE: 73>, \\n 38<Command.INVOKE: 233>, \\n 39<Command.JUMP: 234>, \\n 40<Command.KICK: 4>, \\n 41<Command.LOOK: 58>, \\n 42<Command.LOOT: 236>, \\n 43<Command.MONSTER: 237>, \\n 44<Command.MOVE: 109>, \\n 45<Command.MOVEFAR: 77>, \\n 46<Command.OFFER: 239>, \\n 47<Command.OPEN: 111>, \\n 48<Command.PAY: 112>, \\n 49<Command.PICKUP: 44>, \\n 50<Command.PRAY: 240>, \\n 51<Command.PUTON: 80>, \\n 52<Command.QUAFF: 113>, \\n 53<Command.QUIVER: 81>, \\n 54<Command.READ: 114>, \\n 55<Command.REMOVE: 82>, \\n 56<Command.RIDE: 210>, \\n 57<Command.RUB: 242>, \\n 58<Command.RUSH: 103>, \\n 59<Command.RUSH2: 71>, \\n 60<Command.SEARCH: 115>, \\n 61<Command.SEEARMOR: 91>, \\n 62<Command.SEERINGS: 61>, \\n 63<Command.SEETOOLS: 40>, \\n 64<Command.SEETRAP: 94>, \\n 65<Command.SEEWEAPON: 41>, \\n 66<Command.SHELL: 33>, \\n 67<Command.SIT: 243>, \\n 68<Command.SWAP: 120>, \\n 69<Command.TAKEOFF: 84>, \\n 70<Command.TAKEOFFALL: 65>, \\n 71<Command.THROW: 116>, \\n 72<Command.TIP: 212>, \\n 73<Command.TURN: 244>, \\n 74<Command.TWOWEAPON: 88>, \\n 75<Command.UNTRAP: 245>, \\n 76<Command.VERSIONSHORT: 118>, \\n 77<Command.WEAR: 87>, \\n 78<Command.WIELD: 119>, \\n 79<Command.WIPE: 247>, \\n 80<Command.ZAP: 122>, \\n 81<TextCharacters.PLUS: 43>, \\n 82<TextCharacters.QUOTE: 34>, \\n 83<TextCharacters.DOLLAR: 36>, \\n 84<TextCharacters.SPACE: 32>]\\n '"
      ]
     },
     "execution_count": 3,
     "metadata": {},
     "output_type": "execute_result"
    }
   ],
   "source": [
    "# TUTTE LE AZIONI POSSIBILI LISTATE\n",
    "\"\"\"\n",
    "[0<CompassDirection.N: 107>, \n",
    " 1<CompassDirection.E: 108>, \n",
    " 2<CompassDirection.S: 106>, \n",
    " 3<CompassDirection.W: 104>, \n",
    " 4<CompassDirection.NE: 117>, \n",
    " 5<CompassDirection.SE: 110>, \n",
    " 6<CompassDirection.SW: 98>, \n",
    " 7<CompassDirection.NW: 121>, \n",
    " 8<CompassDirectionLonger.N: 75>, \n",
    " 9<CompassDirectionLonger.E: 76>, \n",
    " 10<CompassDirectionLonger.S: 74>, \n",
    " 11<CompassDirectionLonger.W: 72>, \n",
    " 12<CompassDirectionLonger.NE: 85>, \n",
    " 13<CompassDirectionLonger.SE: 78>, \n",
    " 14<CompassDirectionLonger.SW: 66>, \n",
    " 15<CompassDirectionLonger.NW: 89>, \n",
    " 16<MiscDirection.DOWN: 62>, \n",
    " 17<MiscDirection.WAIT: 46>, \n",
    " 18<MiscAction.MORE: 13>, \n",
    " 19<Command.ADJUST: 225>, \n",
    " 20<Command.APPLY: 97>, \n",
    " 21<Command.ATTRIBUTES: 24>, \n",
    " 22<Command.CALL: 67>, \n",
    " 23<Command.CAST: 90>, \n",
    " 24<Command.CHAT: 227>, \n",
    " 25<Command.CLOSE: 99>, \n",
    " 26<Command.DIP: 228>, \n",
    " 27<Command.DROP: 100>, \n",
    " 28<Command.DROPTYPE: 68>, \n",
    " 29<Command.EAT: 101>, \n",
    " 30<Command.ENGRAVE: 69>, \n",
    " 31<Command.ENHANCE: 229>, \n",
    " 32<Command.ESC: 27>, \n",
    " 33<Command.FIGHT: 70>, \n",
    " 34<Command.FIRE: 102>, \n",
    " 35<Command.FORCE: 230>, \n",
    " 36<Command.INVENTORY: 105>, \n",
    " 37<Command.INVENTTYPE: 73>, \n",
    " 38<Command.INVOKE: 233>, \n",
    " 39<Command.JUMP: 234>, \n",
    " 40<Command.KICK: 4>, \n",
    " 41<Command.LOOK: 58>, \n",
    " 42<Command.LOOT: 236>, \n",
    " 43<Command.MONSTER: 237>, \n",
    " 44<Command.MOVE: 109>, \n",
    " 45<Command.MOVEFAR: 77>, \n",
    " 46<Command.OFFER: 239>, \n",
    " 47<Command.OPEN: 111>, \n",
    " 48<Command.PAY: 112>, \n",
    " 49<Command.PICKUP: 44>, \n",
    " 50<Command.PRAY: 240>, \n",
    " 51<Command.PUTON: 80>, \n",
    " 52<Command.QUAFF: 113>, \n",
    " 53<Command.QUIVER: 81>, \n",
    " 54<Command.READ: 114>, \n",
    " 55<Command.REMOVE: 82>, \n",
    " 56<Command.RIDE: 210>, \n",
    " 57<Command.RUB: 242>, \n",
    " 58<Command.RUSH: 103>, \n",
    " 59<Command.RUSH2: 71>, \n",
    " 60<Command.SEARCH: 115>, \n",
    " 61<Command.SEEARMOR: 91>, \n",
    " 62<Command.SEERINGS: 61>, \n",
    " 63<Command.SEETOOLS: 40>, \n",
    " 64<Command.SEETRAP: 94>, \n",
    " 65<Command.SEEWEAPON: 41>, \n",
    " 66<Command.SHELL: 33>, \n",
    " 67<Command.SIT: 243>, \n",
    " 68<Command.SWAP: 120>, \n",
    " 69<Command.TAKEOFF: 84>, \n",
    " 70<Command.TAKEOFFALL: 65>, \n",
    " 71<Command.THROW: 116>, \n",
    " 72<Command.TIP: 212>, \n",
    " 73<Command.TURN: 244>, \n",
    " 74<Command.TWOWEAPON: 88>, \n",
    " 75<Command.UNTRAP: 245>, \n",
    " 76<Command.VERSIONSHORT: 118>, \n",
    " 77<Command.WEAR: 87>, \n",
    " 78<Command.WIELD: 119>, \n",
    " 79<Command.WIPE: 247>, \n",
    " 80<Command.ZAP: 122>, \n",
    " 81<TextCharacters.PLUS: 43>, \n",
    " 82<TextCharacters.QUOTE: 34>, \n",
    " 83<TextCharacters.DOLLAR: 36>, \n",
    " 84<TextCharacters.SPACE: 32>]\n",
    " \"\"\""
   ]
  },
  {
   "cell_type": "code",
   "execution_count": 4,
   "metadata": {},
   "outputs": [
    {
     "name": "stdout",
     "output_type": "stream",
     "text": [
      "CompassDirection.N\n",
      "CompassDirection.E\n",
      "CompassDirection.S\n",
      "CompassDirection.W\n",
      "Command.MOVE\n"
     ]
    }
   ],
   "source": [
    "# Queste azioni sono quelle che poi vengono passate e env.step(id_action)\n",
    "# Eccone alcune delle più importanti:\n",
    "# DIREZIONI\n",
    "print(MH_FULL_ACTIONS[0])\n",
    "print(MH_FULL_ACTIONS[1])\n",
    "print(MH_FULL_ACTIONS[2])\n",
    "print(MH_FULL_ACTIONS[3])\n",
    "print(MH_FULL_ACTIONS[44])"
   ]
  },
  {
   "cell_type": "code",
   "execution_count": null,
   "metadata": {},
   "outputs": [],
   "source": [
    "import gym\n",
    "import time\n",
    "import matplotlib.pyplot as plt\n",
    "from pyswip import Prolog\n",
    "import IPython.display as display\n",
    "from minihack import LevelGenerator\n",
    "from minihack import RewardManager\n",
    "from minihack.reward_manager import SequentialRewardManager\n",
    "import random\n",
    "from nle import nethack\n",
    "from nle.nethack import Command\n",
    "import numpy as np\n",
    "STATS = ['x', 'y', 'strength_percentage', 'strength', 'dexterity', 'constitution', 'intelligence',\n",
    "'wisdom', 'charisma', 'score', 'hitpoints (health)', 'max_hitpoints', 'depth', 'gold',\n",
    "'energy', 'max_energy', 'armor_class', 'monster_level', 'experience_level',\n",
    "'experience_points', 'time', 'hunger_state', 'carrying_capacity',\n",
    "'dungeon_number', 'level_number']\n",
    "def print_stats(blstats):\n",
    "stat_vals = list(blstats)\n",
    "i = 0\n",
    "for s in STATS:\n",
    "print(s + ': ' + str(stat_vals[i]))\n",
    "i += 1"
   ]
  }
 ],
 "metadata": {
  "kernelspec": {
   "display_name": "minihack",
   "language": "python",
   "name": "python3"
  },
  "language_info": {
   "codemirror_mode": {
    "name": "ipython",
    "version": 3
   },
   "file_extension": ".py",
   "mimetype": "text/x-python",
   "name": "python",
   "nbconvert_exporter": "python",
   "pygments_lexer": "ipython3",
   "version": "3.8.18"
  }
 },
 "nbformat": 4,
 "nbformat_minor": 2
}
