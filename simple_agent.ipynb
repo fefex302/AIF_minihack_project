{
 "cells": [
  {
   "cell_type": "code",
   "execution_count": 41,
   "metadata": {},
   "outputs": [
    {
     "name": "stdout",
     "output_type": "stream",
     "text": [
      "You eat the apple!\n"
     ]
    },
    {
     "data": {
      "image/png": "[encoded data removed]",
      "text/plain": [
       "<Figure size 640x480 with 1 Axes>"
      ]
     },
     "metadata": {},
     "output_type": "display_data"
    }
   ],
   "source": [
    "import gym\n",
    "import time\n",
    "import matplotlib.pyplot as plt\n",
    "from pyswip import Prolog\n",
    "#from utils import create_level, define_reward\n",
    "import IPython.display as display\n",
    "from minihack import LevelGenerator\n",
    "from minihack import RewardManager\n",
    "\n",
    "#Global variables \n",
    "H = 10\n",
    "W = 10\n",
    "NUM_EPISODES = 5\n",
    "MAX_STEPS = 30\n",
    "MONSTER = 'kobold'\n",
    "WEAPON = 'tsurugi'\n",
    "PATH = 'kb.pl'\n",
    "N_MONSTER = 1\n",
    "\n",
    "#simple level creation: we create a 1x3 room and we place the apple in the (0,2) position\n",
    "lvl = LevelGenerator(w=1, h=3)\n",
    "lvl.add_object(name='apple', symbol='%',place=(0,2))\n",
    "des_file = lvl.get_des()\n",
    "\n",
    "#simple reward setting: we set the reward as eating the apple\n",
    "reward_manager = RewardManager()\n",
    "reward_manager.add_eat_event(name='apple', reward=2, terminal_sufficient=True, terminal_required=True)\n",
    "\n",
    "\n",
    "#With this command we decide to create a custom map, we also specify the type of the character and the observation keys,\n",
    "#obs keys are important because they represent a unique way of seeing the enviroment, the obs keys used here are:\n",
    "#----> screen_descriptions: textual descriptions of each cell present in the map. NetHack provides these textual descriptions.\n",
    "#----> inv_strs: encodings of textual descriptions of objects present in the current inventory view.\n",
    "#----> blstats: a representation of the status line at the bottom of the screen, containing information about the player character’s position, health, attributes \n",
    "#               and other statuses. It comes in the form of a dimension 25 vector.\n",
    "#----> message: the utf-8 encoding of the on-screen message displayed at the top of the screen. It’s a 256-dim vector.\n",
    "#----> pixel: a representation of the current screen in image form.\n",
    "env = gym.make('MiniHack-Skill-Custom-v0',\n",
    "               character=\"sam-hum-neu-mal\",\n",
    "               observation_keys=('screen_descriptions','inv_strs','blstats','message','pixel'),\n",
    "               des_file=des_file,\n",
    "               reward_manager=reward_manager)\n",
    "\n",
    "#we reset the enviroment and we render it, showing it in a 'nethack' way\n",
    "obs = env.reset()\n",
    "env.render()\n",
    "\n",
    "#to be able to visualize every step we made in the enviroment, we need to save the current state of the env before making a step\n",
    "states = []\n",
    "states.append(obs['pixel'])\n",
    "\n",
    "#in this simple example the iterations are always the same: we go down 2 times, we pick the apple and we eat it\n",
    "#--------------------------BLOCK OF SEQUENTIAL ACTIONS--------------------------\n",
    "obs, reward, done, info = env.step(2)\n",
    "#remember: we need to save obs after every iteration\n",
    "states.append(obs['pixel'])\n",
    "obs, reward, done, info = env.step(2)\n",
    "states.append(obs['pixel'])\n",
    "\n",
    "#pick the apple\n",
    "obs, reward, done, info = env.step(49)\n",
    "states.append(obs['pixel'])\n",
    "\n",
    "#eat the apple\n",
    "obs, reward, done, info = env.step(29)\n",
    "states.append(obs['pixel'])\n",
    "\n",
    "#we need to do this because when we make an 'eat' action, nethack will ask us what to eat, then we need to find the\n",
    "#apple in our inventory and eat it, after this we completed the episode and the 'done' variable will be True\n",
    "message = bytes(obs['message']).decode('utf-8').rstrip('\\x00')\n",
    "print(message)\n",
    "\n",
    "# Because of the way the message in NetHack works\n",
    "food_char = message.split('[')[1][0]\n",
    "action_id = env.actions.index(ord(food_char))\n",
    "\n",
    "#done will be true here, because we ate the apple\n",
    "obs, reward, done, info = env.step(action_id)\n",
    "\n",
    "#---------------------------------------------------------------------------------\n",
    "\n",
    "\n",
    "#we can visualize the actual state of the env plotting it using the 'pixel' obs key\n",
    "image = plt.imshow(states[0][115:275, 480:750])\n",
    "for state in states[1:]:\n",
    "    time.sleep(0.5)\n",
    "    display.display(plt.gcf())\n",
    "    display.clear_output(wait=True)\n",
    "    image.set_data(state[110:275, 480:750])\n",
    "time.sleep(0.5)\n",
    "display.display(plt.gcf())\n",
    "display.clear_output(wait=True)\n",
    "\n",
    "if(done):\n",
    "    print('You eat the apple!')\n"
   ]
  }
 ],
 "metadata": {
  "kernelspec": {
   "display_name": "minihack",
   "language": "python",
   "name": "python3"
  },
  "language_info": {
   "name": "python",
   "version": "3.10.12"
  }
 },
 "nbformat": 4,
 "nbformat_minor": 2
}
