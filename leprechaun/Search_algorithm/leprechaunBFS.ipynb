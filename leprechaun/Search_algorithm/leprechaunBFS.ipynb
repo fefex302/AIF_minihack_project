{
 "cells": [
  {
   "cell_type": "code",
   "execution_count": null,
   "metadata": {},
   "outputs": [],
   "source": [
    "import gym\n",
    "import minihack\n",
    "import matplotlib.pyplot as plt\n",
    "import IPython.display as display\n",
    "\n",
    "from minihack import LevelGenerator\n",
    "from minihack import RewardManager\n",
    "\n",
    "from utils import *\n",
    "from algorithms import bfs"
   ]
  },
  {
   "cell_type": "code",
   "execution_count": null,
   "metadata": {},
   "outputs": [],
   "source": [
    "level = level_generator(width=12, height=12)\n",
    "reward = reward_generator()"
   ]
  },
  {
   "cell_type": "code",
   "execution_count": null,
   "metadata": {},
   "outputs": [],
   "source": [
    "env = gym.make(\n",
    "    \"MiniHack-Skill-Custom-v0\",\n",
    "    character=\"sam-hum-neu-mal\",\n",
    "    observation_keys=(\"chars\", \"pixel\"),\n",
    "    des_file=level,\n",
    "    # reward_manager=reward, \n",
    ")"
   ]
  },
  {
   "cell_type": "code",
   "execution_count": null,
   "metadata": {},
   "outputs": [],
   "source": [
    "state = env.reset()\n",
    "env.render()"
   ]
  },
  {
   "cell_type": "code",
   "execution_count": null,
   "metadata": {},
   "outputs": [],
   "source": [
    "plt.imshow(state['pixel'][50:300, 510:775])"
   ]
  },
  {
   "cell_type": "code",
   "execution_count": null,
   "metadata": {},
   "outputs": [],
   "source": [
    "plt.imshow(state['chars'][4:20, 30:50])"
   ]
  },
  {
   "cell_type": "code",
   "execution_count": null,
   "metadata": {},
   "outputs": [],
   "source": [
    "game_map = state['chars']\n",
    "game = state['pixel']"
   ]
  },
  {
   "cell_type": "code",
   "execution_count": null,
   "metadata": {},
   "outputs": [],
   "source": [
    "start = get_player_location(game_map)\n",
    "targets = get_targets_location(game_map,symbol='$')\n",
    "# Creazione delle coordinate dei vari target\n",
    "coord_targets_tupla = tuple(tuple(array) for array in targets)\n",
    "coord_targets_list = list(zip(*coord_targets_tupla))\n",
    "coord_targets_list\n",
    "print(\"Entity position on the map (y, x)\")\n",
    "print(\"Agent position:\", start)\n",
    "for y,x in coord_targets_list:\n",
    "    print(f'Target postition: ({y}, {x})')"
   ]
  },
  {
   "cell_type": "code",
   "execution_count": null,
   "metadata": {},
   "outputs": [],
   "source": [
    "# restituisce una tupla di 2 np array: il primo contiene l'indice di riga(y) il secondo contiene l'indice di colonna(x)\n",
    "targets"
   ]
  },
  {
   "cell_type": "code",
   "execution_count": null,
   "metadata": {},
   "outputs": [],
   "source": [
    "# %%time\n",
    "list_of_path = []\n",
    "for y,x in coord_targets_list:\n",
    "    print(f'start position: {start}')\n",
    "    print(f'target position ({y},{x})')\n",
    "    list_of_path.append(bfs(game_map,start, (y, x)))\n",
    "    start = (y, x)"
   ]
  },
  {
   "cell_type": "code",
   "execution_count": null,
   "metadata": {},
   "outputs": [],
   "source": [
    "#path\n",
    "list_of_path"
   ]
  },
  {
   "cell_type": "code",
   "execution_count": null,
   "metadata": {},
   "outputs": [],
   "source": [
    "list_of_actions = []\n",
    "for list in list_of_path:\n",
    "    list_of_actions.append(actions_from_path(start, list))"
   ]
  },
  {
   "cell_type": "code",
   "execution_count": null,
   "metadata": {},
   "outputs": [],
   "source": [
    "# actions\n",
    "list_of_actions"
   ]
  },
  {
   "cell_type": "code",
   "execution_count": null,
   "metadata": {},
   "outputs": [],
   "source": [
    "# env.step(action) fa muovere il personaggio.\n",
    "# come parametro action è o un intero (0 -> up; 1 -> dx; 2 -> down; 3 -> sx) oppure una lista di interi\n",
    "image = plt.imshow(game[50:300, 510:775])\n",
    "for action in list_of_actions:\n",
    "    for step in action:\n",
    "        s, _, _, _ = env.step(step)\n",
    "        display.display(plt.gcf())\n",
    "        display.clear_output(wait=True)\n",
    "        image.set_data(s['pixel'][50:300, 510:775])"
   ]
  }
 ],
 "metadata": {
  "kernelspec": {
   "display_name": "minihack",
   "language": "python",
   "name": "python3"
  },
  "language_info": {
   "codemirror_mode": {
    "name": "ipython",
    "version": 3
   },
   "file_extension": ".py",
   "mimetype": "text/x-python",
   "name": "python",
   "nbconvert_exporter": "python",
   "pygments_lexer": "ipython3",
   "version": "3.8.18"
  }
 },
 "nbformat": 4,
 "nbformat_minor": 2
}
