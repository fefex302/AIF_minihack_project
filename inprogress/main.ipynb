{
 "cells": [
  {
   "cell_type": "code",
   "execution_count": 1,
   "metadata": {},
   "outputs": [],
   "source": [
    "from gold_room_env import MiniHackGoldRoom\n",
    "from utils import show_episode\n",
    "from planning import a_star_search, uniform_cost_search, apply, random_search, ALLOWED_COMPOSITE_MOVES\n",
    "import gym\n",
    "import numpy as np"
   ]
  },
  {
   "cell_type": "code",
   "execution_count": 10,
   "metadata": {},
   "outputs": [
    {
     "name": "stdout",
     "output_type": "stream",
     "text": [
      "PLAN 1\n",
      "Starting position: (1, 3), Stair position: (2, 3)\n",
      "Gold positions: [(1, 4), (3, 4), (3, 1), (1, 0)]\n",
      "Expanded nodes: 211\n",
      "Path: [(1, 3), (1, 4), (2, 4), (3, 4), (3, 3), (3, 2), (3, 1), (2, 0), (1, 0), (1, 1), (1, 2), (2, 3)]\n",
      "Actions: ['N', 'E', 'E', 'S', 'S', 'S', 'SW', 'W', 'N', 'N', 'NE']\n",
      "\n",
      "PLAN 2\n",
      "Starting position: (1, 3), Stair position: (2, 3)\n",
      "Gold positions: [(1, 4), (3, 4), (3, 1), (1, 0)]\n",
      "Expanded nodes: 265\n",
      "Path: [(1, 3), (1, 4), (2, 4), (3, 4), (3, 3), (3, 2), (3, 1), (2, 1), (1, 0), (1, 1), (1, 2), (2, 3)]\n",
      "Actions: ['N', 'E', 'E', 'S', 'S', 'S', 'W', 'SW', 'N', 'N', 'NE']\n",
      "\n",
      "PLAN 3\n",
      "Starting position: (1, 3), Stair position: (2, 3)\n",
      "Gold positions: [(1, 4), (3, 4), (3, 1), (1, 0)]\n",
      "Expanded nodes: 10\n",
      "Path: [(1, 3), (1, 4), (2, 4), (3, 4), (2, 3)]\n",
      "Actions: ['N', 'E', 'E', 'SW']\n",
      "\n",
      "PLAN 4\n",
      "Starting position: (1, 3), Stair position: (2, 3)\n",
      "Gold positions: [(1, 4), (3, 4), (3, 1), (1, 0)]\n",
      "Expanded nodes: 53\n",
      "Path: [(1, 3), (1, 4), (2, 4), (3, 4), (3, 3), (3, 2), (3, 1), (2, 1), (1, 0), (1, 1), (1, 2), (2, 3)]\n",
      "Actions: ['N', 'E', 'E', 'S', 'S', 'S', 'W', 'SW', 'N', 'N', 'NE']\n"
     ]
    }
   ],
   "source": [
    "width = 5\n",
    "height = 5\n",
    "n_golds = 4\n",
    "n_leps = 0\n",
    "max_steps = 100\n",
    "\n",
    "env1 = gym.make(\n",
    "    'MiniHack-MyTask-Custom-v0',\n",
    "    width=width, height=height,\n",
    "    n_leps=n_leps,\n",
    "    n_golds=n_golds,\n",
    "    max_episode_steps=max_steps,\n",
    "    gold_score=100,\n",
    "    stair_score=0,\n",
    "    time_penalty=-1\n",
    "    )\n",
    "\n",
    "plan1, n_expanded1 = a_star_search(env=env1)\n",
    "print('PLAN 1')\n",
    "print(f'Starting position: {env1.agent_coord}, Stair position: {env1.stair_coord}')\n",
    "print(f'Gold positions: {env1.gold_coords}')\n",
    "print(f'Expanded nodes: {n_expanded1}')\n",
    "plan1.show()\n",
    "\n",
    "env2 = env1.copy()\n",
    "\n",
    "print('\\nPLAN 2')\n",
    "plan2, n_expanded2 = a_star_search(\n",
    "    env=env2,\n",
    "    allowed_moves_function=ALLOWED_COMPOSITE_MOVES\n",
    "    )\n",
    "print(f'Starting position: {env2.agent_coord}, Stair position: {env2.stair_coord}')\n",
    "print(f'Gold positions: {env2.gold_coords}')\n",
    "print(f'Expanded nodes: {n_expanded2}')\n",
    "plan2.show()\n",
    "\n",
    "\n",
    "env3 = env1.copy()\n",
    "\n",
    "print('\\nPLAN 3')\n",
    "plan3, n_expanded3 = uniform_cost_search(env=env3)\n",
    "print(f'Starting position: {env3.agent_coord}, Stair position: {env3.stair_coord}')\n",
    "print(f'Gold positions: {env3.gold_coords}')\n",
    "print(f'Expanded nodes: {n_expanded3}')\n",
    "plan3.show()\n",
    "\n",
    "env4 = env1.copy()\n",
    "\n",
    "print('\\nPLAN 4')\n",
    "plan4, n_expanded4 = uniform_cost_search(\n",
    "    env=env4,\n",
    "    allowed_moves_function=ALLOWED_COMPOSITE_MOVES\n",
    "    )\n",
    "print(f'Starting position: {env4.agent_coord}, Stair position: {env4.stair_coord}')\n",
    "print(f'Gold positions: {env4.gold_coords}')\n",
    "print(f'Expanded nodes: {n_expanded4}')\n",
    "plan4.show()"
   ]
  },
  {
   "cell_type": "code",
   "execution_count": 11,
   "metadata": {},
   "outputs": [
    {
     "name": "stdout",
     "output_type": "stream",
     "text": [
      "Rewards1: [0, 99.0, -1.0, 99.0, -1.0, -1.0, 99.0, -1.41, 99.0, -1.0, -1.0, -1.41], sum: 388.18\n",
      "Rewards2: [0, 99.0, -1.0, 99.0, -1.0, -1.0, 99.0, -1.0, 98.59, -1.0, -1.0, -1.41], sum: 388.18\n",
      "Rewards3: [0, 99.0, -1.0, 99.0, -1.0, -1.0, 99.0, -1.41, 99.0, -1.0, -1.0, -1.41], sum: 195.59\n",
      "Rewards4: [0, 99.0, -1.0, 99.0, -1.0, -1.0, 99.0, -1.0, 98.59, -1.0, -1.0, -1.41], sum: 388.18\n"
     ]
    }
   ],
   "source": [
    "states1, rewards1, done1 = apply(env1, plan1)\n",
    "states2, rewards2, done2 = apply(env2, plan2)\n",
    "states3, rewards3, done3 = apply(env3, plan3)\n",
    "states4, rewards4, done4 = apply(env4, plan4)\n",
    "\n",
    "rewards1_round = []\n",
    "for r in rewards1:\n",
    "    rewards1_round.append(round(r, 2))\n",
    "\n",
    "rewards2_round = []\n",
    "for r in rewards2:\n",
    "    rewards2_round.append(round(r, 2))\n",
    "\n",
    "rewards3_round = []\n",
    "for r in rewards3:\n",
    "    rewards3_round.append(round(r, 2))\n",
    "\n",
    "rewards4_round = []\n",
    "for r in rewards4:\n",
    "    rewards4_round.append(round(r, 2))\n",
    "\n",
    "print(f'Rewards1: {rewards1_round}, sum: {np.sum(rewards1_round)}')\n",
    "print(f'Rewards2: {rewards2_round}, sum: {np.sum(rewards2_round)}')\n",
    "print(f'Rewards3: {rewards1_round}, sum: {np.sum(rewards3_round)}')\n",
    "print(f'Rewards4: {rewards2_round}, sum: {np.sum(rewards4_round)}')"
   ]
  },
  {
   "cell_type": "code",
   "execution_count": 14,
   "metadata": {},
   "outputs": [
    {
     "data": {
      "image/png": "[encoded data removed]",
      "text/plain": [
       "<Figure size 640x480 with 1 Axes>"
      ]
     },
     "metadata": {},
     "output_type": "display_data"
    }
   ],
   "source": [
    "show_episode(states3, clear_output=True)"
   ]
  },
  {
   "cell_type": "code",
   "execution_count": 6,
   "metadata": {},
   "outputs": [
    {
     "data": {
      "image/png": "[encoded data removed]",
      "text/plain": [
       "<Figure size 640x480 with 1 Axes>"
      ]
     },
     "metadata": {},
     "output_type": "display_data"
    }
   ],
   "source": [
    "show_episode(states2, clear_output=True)"
   ]
  },
  {
   "cell_type": "code",
   "execution_count": 11,
   "metadata": {},
   "outputs": [
    {
     "name": "stdout",
     "output_type": "stream",
     "text": [
      "PLAN 1\n",
      "Starting position: (1, 3), Stair position: (3, 2)\n",
      "Gold positions: [(3, 4), (0, 1), (0, 0), (2, 0)]\n",
      "Expanded nodes: 146\n",
      "Path: [(1, 3), (0, 2), (0, 1), (0, 0), (1, 0), (2, 0), (2, 1), (2, 2), (3, 3), (3, 4), (3, 3), (3, 2)]\n",
      "Actions: ['SW', 'S', 'S', 'E', 'E', 'N', 'N', 'NE', 'N', 'S', 'S']\n",
      "\n",
      "PLAN 2\n",
      "Starting position: (1, 3), Stair position: (3, 2)\n",
      "Gold positions: [(3, 4), (0, 1), (0, 0), (2, 0)]\n",
      "Expanded nodes: 201\n",
      "Path: [(1, 3), (1, 2), (0, 1), (0, 0), (1, 0), (2, 0), (2, 1), (2, 2), (3, 3), (3, 4), (3, 3), (3, 2)]\n",
      "Actions: ['S', 'SW', 'S', 'E', 'E', 'N', 'N', 'NE', 'N', 'S', 'S']\n"
     ]
    }
   ],
   "source": [
    "width = 5\n",
    "height = 5\n",
    "n_golds = 4\n",
    "n_leps = 0\n",
    "max_steps = 100\n",
    "\n",
    "env = gym.make(\n",
    "    'MiniHack-MyTask-Custom-v0',\n",
    "    width=width, height=height,\n",
    "    n_leps=n_leps,\n",
    "    n_golds=n_golds,\n",
    "    max_episode_steps=max_steps,\n",
    "    gold_score=100,\n",
    "    stair_score=1,\n",
    "    time_penalty=-1\n",
    "    )\n",
    "\n",
    "plan1, n_expanded1 = uniform_cost_search(env=env)\n",
    "print('PLAN 1')\n",
    "print(f'Starting position: {env.agent_coord}, Stair position: {env.stair_coord}')\n",
    "print(f'Gold positions: {env.gold_coords}')\n",
    "print(f'Expanded nodes: {n_expanded1}')\n",
    "plan1.show()\n",
    "\n",
    "env_copy = env.copy()\n",
    "\n",
    "print('\\nPLAN 2')\n",
    "plan2, n_expanded2 = uniform_cost_search(\n",
    "    env=env_copy,\n",
    "    allowed_moves_function=ALLOWED_COMPOSITE_MOVES\n",
    "    )\n",
    "print(f'Starting position: {env_copy.agent_coord}, Stair position: {env_copy.stair_coord}')\n",
    "print(f'Gold positions: {env_copy.gold_coords}')\n",
    "print(f'Expanded nodes: {n_expanded2}')\n",
    "plan2.show()"
   ]
  },
  {
   "cell_type": "code",
   "execution_count": 12,
   "metadata": {},
   "outputs": [
    {
     "name": "stdout",
     "output_type": "stream",
     "text": [
      "Rewards1: [0, -1.41, 99.0, 99.0, -1.0, 99.0, -1.0, -1.0, -1.41, 99.0, -1.0, 0.0], sum: 389.18\n",
      "Rewards2: [0, -1.0, 98.59, 99.0, -1.0, 99.0, -1.0, -1.0, -1.41, 99.0, -1.0, 0.0], sum: 389.18\n"
     ]
    }
   ],
   "source": [
    "states1, rewards1, done1 = apply(env, plan1)\n",
    "states2, rewards2, done2 = apply(env_copy, plan2)\n",
    "\n",
    "rewards1_round = []\n",
    "for r in rewards1:\n",
    "    rewards1_round.append(round(r, 2))\n",
    "\n",
    "rewards2_round = []\n",
    "for r in rewards2:\n",
    "    rewards2_round.append(round(r, 2))\n",
    "\n",
    "print(f'Rewards1: {rewards1_round}, sum: {np.sum(rewards1_round)}')\n",
    "\n",
    "print(f'Rewards2: {rewards2_round}, sum: {np.sum(rewards2_round)}')"
   ]
  },
  {
   "cell_type": "code",
   "execution_count": 13,
   "metadata": {},
   "outputs": [
    {
     "data": {
      "image/png": "[encoded data removed]",
      "text/plain": [
       "<Figure size 640x480 with 1 Axes>"
      ]
     },
     "metadata": {},
     "output_type": "display_data"
    }
   ],
   "source": [
    "show_episode(states1, clear_output=True)"
   ]
  },
  {
   "cell_type": "code",
   "execution_count": 14,
   "metadata": {},
   "outputs": [
    {
     "data": {
      "image/png": "[encoded data removed]",
      "text/plain": [
       "<Figure size 640x480 with 1 Axes>"
      ]
     },
     "metadata": {},
     "output_type": "display_data"
    }
   ],
   "source": [
    "show_episode(states2, clear_output=True)"
   ]
  }
 ],
 "metadata": {
  "kernelspec": {
   "display_name": "minihack",
   "language": "python",
   "name": "python3"
  },
  "language_info": {
   "codemirror_mode": {
    "name": "ipython",
    "version": 3
   },
   "file_extension": ".py",
   "mimetype": "text/x-python",
   "name": "python",
   "nbconvert_exporter": "python",
   "pygments_lexer": "ipython3",
   "version": "3.10.12"
  }
 },
 "nbformat": 4,
 "nbformat_minor": 2
}
