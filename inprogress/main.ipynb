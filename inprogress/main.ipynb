{
 "cells": [
  {
   "cell_type": "code",
   "execution_count": 1,
   "metadata": {},
   "outputs": [],
   "source": [
    "from gold_room_env import MiniHackGoldRoom\n",
    "from utils import show_episode, ALLOWED_COMPOSITE_MOVES, ALLOWED_SIMPLE_MOVES\n",
    "from planning import a_star_search, uniform_cost_search, greedy_search, apply\n",
    "from online_search import online_greedy_search\n",
    "import gym\n",
    "import numpy as np\n",
    "from tqdm import tqdm\n",
    "import matplotlib.pyplot as plt"
   ]
  },
  {
   "cell_type": "code",
   "execution_count": 2,
   "metadata": {},
   "outputs": [
    {
     "name": "stdout",
     "output_type": "stream",
     "text": [
      "Starting position: (3, 1), Stair position: (0, 0)\n",
      "Gold positions: [(0, 3), (2, 0), (1, 1), (0, 0)]\n",
      "\n",
      "Algorithm: A* (simple moves)\n",
      "Expanded nodes: 48\n",
      "Path: [(3, 1), (2, 0), (1, 1), (1, 2), (0, 3), (0, 2), (0, 1), (0, 0)]\n",
      "Actions: ['SW', 'NW', 'N', 'NW', 'S', 'S', 'S']\n",
      "Total score: 391.757\n",
      "\n",
      "\n",
      "Algorithm: A* (composite moves)\n",
      "Expanded nodes: 74\n",
      "Path: [(3, 1), (2, 0), (1, 1), (1, 2), (0, 3), (0, 2), (0, 1), (0, 0)]\n",
      "Actions: ['SW', 'NW', 'N', 'NW', 'S', 'S', 'S']\n",
      "Total score: 391.757\n",
      "\n",
      "\n",
      "Algorithm: Uniform Cost (simple moves)\n",
      "Expanded nodes: 4\n",
      "Path: [(3, 1), (2, 0), (1, 1), (0, 0)]\n",
      "Actions: ['SW', 'NW', 'SW']\n",
      "Total score: 295.757\n",
      "\n",
      "\n",
      "Algorithm: Uniform Cost (composite moves)\n",
      "Expanded nodes: 45\n",
      "Path: [(3, 1), (2, 0), (1, 1), (1, 2), (0, 3), (0, 2), (0, 1), (0, 0)]\n",
      "Actions: ['SW', 'NW', 'N', 'NW', 'S', 'S', 'S']\n",
      "Total score: 391.757\n",
      "\n",
      "\n",
      "Algorithm: Greedy (simple moves)\n",
      "Expanded nodes: 121\n",
      "Path: [(3, 1), (2, 0), (1, 0), (0, 0)]\n",
      "Actions: ['SW', 'W', 'W']\n",
      "Total score: 196.586\n",
      "\n",
      "\n",
      "Algorithm: Greedy (composite moves)\n",
      "Expanded nodes: 121\n",
      "Path: [(3, 1), (2, 0), (1, 0), (0, 0)]\n",
      "Actions: ['SW', 'W', 'W']\n",
      "Total score: 196.586\n",
      "\n",
      "\n"
     ]
    }
   ],
   "source": [
    "WIDTH = 4\n",
    "HEIGHT = 4\n",
    "N_GOLDS = 4\n",
    "N_LEPS = 0\n",
    "GOLD_SCORE = 100\n",
    "STAIR_SCORE = 0\n",
    "TIME_PENALTY = -1\n",
    "MAX_STEPS = 100\n",
    "\n",
    "SEARCH_ALGORITHMS = [a_star_search, uniform_cost_search, greedy_search]\n",
    "ALG_NAMES = ['A*', 'Uniform Cost', 'Greedy']\n",
    "ALLOWED_MOVES_FUNCTIONS = [ALLOWED_SIMPLE_MOVES, ALLOWED_COMPOSITE_MOVES]\n",
    "MOVE_NAMES = ['simple moves', 'composite moves']\n",
    "\n",
    "env = gym.make(\n",
    "    'MiniHack-MyTask-Custom-v0',\n",
    "    width=WIDTH,\n",
    "    height=HEIGHT,\n",
    "    n_leps=N_LEPS,\n",
    "    n_golds=N_GOLDS,\n",
    "    max_episode_steps=MAX_STEPS,\n",
    "    gold_score=GOLD_SCORE,\n",
    "    stair_score=STAIR_SCORE,\n",
    "    time_penalty=TIME_PENALTY\n",
    "    )\n",
    "\n",
    "print(f'Starting position: {env.agent_coord}, Stair position: {env.stair_coord}')\n",
    "print(f'Gold positions: {env.gold_coords}\\n')\n",
    "\n",
    "planning_stats = {}\n",
    "\n",
    "for search_algorithm, alg_name in zip(SEARCH_ALGORITHMS, ALG_NAMES):\n",
    "    temp = {}\n",
    "    for moves_function, moves_name in zip(ALLOWED_MOVES_FUNCTIONS, MOVE_NAMES):\n",
    "        plan, n_expanded = search_algorithm(env=env, allowed_moves_function=moves_function)\n",
    "        temp[moves_name] = {\n",
    "            'algorithm': search_algorithm,\n",
    "            'moves': moves_name,\n",
    "            'plan': plan,\n",
    "            'n_expanded': n_expanded\n",
    "        }\n",
    "        print(f'Algorithm: {alg_name} ({moves_name})\\nExpanded nodes: {n_expanded}')\n",
    "        plan.show(env=env)\n",
    "        print('\\n')\n",
    "    planning_stats[alg_name] = temp"
   ]
  },
  {
   "cell_type": "code",
   "execution_count": 3,
   "metadata": {},
   "outputs": [
    {
     "name": "stdout",
     "output_type": "stream",
     "text": [
      "A* (simple moves)\n",
      "Rewards: [0, 98.586, 98.586, -1.0, 98.586, -1.0, -1.0, 99.0], sum: 391.757\n",
      "\n",
      "A* (composite moves)\n",
      "Rewards: [0, 98.586, 98.586, -1.0, 98.586, -1.0, -1.0, 99.0], sum: 391.757\n",
      "\n",
      "Uniform Cost (simple moves)\n",
      "Rewards: [0, 98.586, 98.586, 98.586], sum: 295.757\n",
      "\n",
      "Uniform Cost (composite moves)\n",
      "Rewards: [0, 98.586, 98.586, -1.0, 98.586, -1.0, -1.0, 99.0], sum: 391.757\n",
      "\n",
      "Greedy (simple moves)\n",
      "Rewards: [0, 98.586, -1.0, 99.0], sum: 196.586\n",
      "\n",
      "Greedy (composite moves)\n",
      "Rewards: [0, 98.586, -1.0, 99.0], sum: 196.586\n",
      "\n"
     ]
    }
   ],
   "source": [
    "application_results = {}\n",
    "\n",
    "for algorithm in ALG_NAMES:\n",
    "    temp = {}\n",
    "    for moves in MOVE_NAMES:\n",
    "        env.myreset()\n",
    "        states, rewards, done = apply(env, planning_stats[algorithm][moves]['plan'])\n",
    "        temp[moves] = {\n",
    "            'states': states,\n",
    "            'rewards': rewards,\n",
    "            'done': done\n",
    "        }\n",
    "        rws_round = []\n",
    "        for r in rewards:\n",
    "            rws_round.append(round(r, 3))\n",
    "        sum_rws = sum(rewards)\n",
    "        sum_rws_round = round(sum_rws, 3)\n",
    "        print(f'{algorithm} ({moves})\\nRewards: {rws_round}, sum: {sum_rws_round}\\n')\n",
    "    application_results[algorithm] = temp"
   ]
  },
  {
   "cell_type": "code",
   "execution_count": 4,
   "metadata": {},
   "outputs": [
    {
     "data": {
      "image/png": "[encoded data removed]",
      "text/plain": [
       "<Figure size 640x480 with 1 Axes>"
      ]
     },
     "metadata": {},
     "output_type": "display_data"
    }
   ],
   "source": [
    "show_episode(application_results['A*']['simple moves']['states'], clear_output=True)"
   ]
  },
  {
   "cell_type": "code",
   "execution_count": 1,
   "metadata": {},
   "outputs": [],
   "source": [
    "from gold_room_env import MiniHackGoldRoom\n",
    "from utils import show_episode, ALLOWED_COMPOSITE_MOVES, ALLOWED_SIMPLE_MOVES\n",
    "from planning import a_star_search, uniform_cost_search, greedy_search, apply\n",
    "from online_search import online_search_f\n",
    "import gym\n",
    "import numpy as np\n",
    "from tqdm import tqdm\n",
    "import matplotlib.pyplot as plt"
   ]
  },
  {
   "cell_type": "code",
   "execution_count": 6,
   "metadata": {},
   "outputs": [
    {
     "name": "stdout",
     "output_type": "stream",
     "text": [
      "Starting position: (3, 1), Stair position: (3, 3)\n",
      "Gold positions: [(2, 4), (1, 3), (3, 0), (0, 4), (1, 2)]\n",
      "\n",
      "Online Greedy Search\n",
      "Rewards: [0.0, 99.0, -1.0, -1.0, 98.586, 99.0, 98.586, -1.0, 99.0, -1.414], sum: 489.757\n",
      "\n"
     ]
    }
   ],
   "source": [
    "WIDTH = 5\n",
    "HEIGHT = 5\n",
    "N_GOLDS = 5\n",
    "N_LEPS = 0\n",
    "GOLD_SCORE = 100\n",
    "STAIR_SCORE = 0\n",
    "TIME_PENALTY = -1\n",
    "MAX_STEPS = 100\n",
    "\n",
    "env = gym.make(\n",
    "    'MiniHack-MyTask-Custom-v0',\n",
    "    width=WIDTH,\n",
    "    height=HEIGHT,\n",
    "    n_leps=N_LEPS,\n",
    "    n_golds=N_GOLDS,\n",
    "    max_episode_steps=MAX_STEPS,\n",
    "    gold_score=GOLD_SCORE,\n",
    "    stair_score=STAIR_SCORE,\n",
    "    time_penalty=TIME_PENALTY\n",
    "    )\n",
    "\n",
    "print(f'Starting position: {env.agent_coord}, Stair position: {env.stair_coord}')\n",
    "print(f'Gold positions: {env.gold_coords}\\n')\n",
    "\n",
    "env.myreset()\n",
    "states, rewards, done, i = online_search_f(env=env, max_steps=MAX_STEPS)\n",
    "rws_round = [round(r, 3) for r in rewards]\n",
    "sum_rws_round = round(sum(rewards), 3)\n",
    "print(f'Online Greedy Search\\nRewards: {rws_round}, sum: {sum_rws_round}\\n')"
   ]
  },
  {
   "cell_type": "code",
   "execution_count": 7,
   "metadata": {},
   "outputs": [
    {
     "data": {
      "image/png": "[encoded data removed]",
      "text/plain": [
       "<Figure size 640x480 with 1 Axes>"
      ]
     },
     "metadata": {},
     "output_type": "display_data"
    }
   ],
   "source": [
    "show_episode(states, clear_output=True)"
   ]
  },
  {
   "cell_type": "code",
   "execution_count": 10,
   "metadata": {},
   "outputs": [
    {
     "name": "stderr",
     "output_type": "stream",
     "text": [
      "4x4: 100%|██████████| 1/1 [00:01<00:00,  1.23s/it]\n",
      "5x5: 100%|██████████| 2/2 [00:03<00:00,  1.53s/it]\n",
      "6x6: 100%|██████████| 3/3 [00:05<00:00,  1.69s/it]\n",
      "7x7: 100%|██████████| 4/4 [00:09<00:00,  2.45s/it]\n",
      "8x8: 100%|██████████| 6/6 [00:29<00:00,  4.86s/it]\n",
      "9x9: 100%|██████████| 8/8 [01:07<00:00,  8.48s/it]\n",
      "10x10: 100%|██████████| 10/10 [06:01<00:00, 36.13s/it]\n"
     ]
    }
   ],
   "source": [
    "WIDTH = list(range(4, 11))\n",
    "HEIGHT = WIDTH\n",
    "N_GOLDS = lambda width, height: int(width * height * 0.1)\n",
    "N_LEPS = 0\n",
    "GOLD_SCORE = 100\n",
    "STAIR_SCORE = 0\n",
    "TIME_PENALTY = -1\n",
    "MAX_STEPS = 1000\n",
    "SAMPLES_PER_SETTING = 10\n",
    "\n",
    "settings = []\n",
    "\n",
    "for width, height in zip(WIDTH, HEIGHT):\n",
    "    for n_golds in tqdm(range(N_GOLDS(width=width, height=height)), total=N_GOLDS(width=width, height=height), desc=f'{width}x{height}'):\n",
    "        setting = {\n",
    "            'width': width,\n",
    "            'height': height,\n",
    "            'n_golds': n_golds,\n",
    "            'samples': [],\n",
    "            'stats': []\n",
    "        }\n",
    "        for _ in range(SAMPLES_PER_SETTING):\n",
    "            env = gym.make(\n",
    "                'MiniHack-MyTask-Custom-v0',\n",
    "                width=width,\n",
    "                height=height,\n",
    "                n_leps=N_LEPS,\n",
    "                n_golds=n_golds,\n",
    "                max_episode_steps=MAX_STEPS,\n",
    "                gold_score=GOLD_SCORE,\n",
    "                stair_score=STAIR_SCORE,\n",
    "                time_penalty=TIME_PENALTY\n",
    "                )\n",
    "            \n",
    "            setting['samples'].append(env)\n",
    "\n",
    "            plan, n_expanded = a_star_search(env=env, allowed_moves_function=ALLOWED_SIMPLE_MOVES)\n",
    "\n",
    "            # -----------------------------------------------------------------------------------------------------------\n",
    "\n",
    "            env.myreset()\n",
    "            states, rewards, done = apply(env, plan)\n",
    "\n",
    "            rws_round = []\n",
    "            for r in rewards:\n",
    "                rws_round.append(round(r, 3))\n",
    "            sum_rws = sum(rewards)\n",
    "            sum_rws_round = round(sum_rws, 3)\n",
    "\n",
    "            sample_stats = {\n",
    "                'optimal_score': sum_rws_round,\n",
    "                'optimal_path': plan.path\n",
    "            }\n",
    "\n",
    "            # -----------------------------------------------------------------------------------------------------------\n",
    "\n",
    "            env.myreset()\n",
    "            states, rewards, done, i = online_search_f(env=env, max_steps=MAX_STEPS)\n",
    "\n",
    "            rws_round = [round(r, 3) for r in rewards]\n",
    "            sum_rws_round = round(sum(rewards), 3)\n",
    "\n",
    "            sample_stats['online_search_score'] = sum_rws_round\n",
    "            sample_stats['online_search_path'] = [state['agent_coord'] for state in states]\n",
    "\n",
    "            setting['stats'].append(sample_stats)\n",
    "\n",
    "            # -----------------------------------------------------------------------------------------------------------\n",
    "\n",
    "    settings.append(setting)\n",
    "\n"
   ]
  },
  {
   "cell_type": "code",
   "execution_count": 12,
   "metadata": {},
   "outputs": [
    {
     "data": {
      "image/png": "[encoded data removed]",
      "text/plain": [
       "<Figure size 640x480 with 1 Axes>"
      ]
     },
     "metadata": {},
     "output_type": "display_data"
    }
   ],
   "source": [
    "score_dists = [np.mean([np.abs(np.array(setting['stats'][i]['optimal_score']) - np.array(setting['stats'][i]['online_search_score'])) for i in range(SAMPLES_PER_SETTING)]) for setting in settings]\n",
    "\n",
    "x_values = [width * height for width, height in zip(WIDTH, HEIGHT)]\n",
    "y_values = score_dists\n",
    "\n",
    "plt.plot(x_values, y_values, label='Score differences', marker='o')\n",
    "plt.xticks(x_values, x_values)\n",
    "\n",
    "plt.xlabel('grid dimention')\n",
    "\n",
    "plt.legend()\n",
    "\n",
    "plt.show()"
   ]
  },
  {
   "cell_type": "code",
   "execution_count": null,
   "metadata": {},
   "outputs": [],
   "source": []
  }
 ],
 "metadata": {
  "kernelspec": {
   "display_name": "minihack",
   "language": "python",
   "name": "python3"
  },
  "language_info": {
   "codemirror_mode": {
    "name": "ipython",
    "version": 3
   },
   "file_extension": ".py",
   "mimetype": "text/x-python",
   "name": "python",
   "nbconvert_exporter": "python",
   "pygments_lexer": "ipython3",
   "version": "3.10.12"
  }
 },
 "nbformat": 4,
 "nbformat_minor": 2
}
