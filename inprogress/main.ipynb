{
 "cells": [
  {
   "cell_type": "code",
   "execution_count": 1,
   "metadata": {},
   "outputs": [],
   "source": [
    "from gold_room_env import MiniHackGoldRoom\n",
    "from utils import show_episode\n",
    "import gym\n",
    "from tqdm import tqdm\n",
    "\n",
    "#import numpy as np\n",
    "#import matplotlib.pyplot as plt"
   ]
  },
  {
   "cell_type": "markdown",
   "metadata": {},
   "source": [
    "# Planning"
   ]
  },
  {
   "cell_type": "code",
   "execution_count": 2,
   "metadata": {},
   "outputs": [],
   "source": [
    "from utils import ALLOWED_COMPOSITE_MOVES, ALLOWED_SIMPLE_MOVES\n",
    "from planning import a_star_search, uniform_cost_search, greedy_search, apply"
   ]
  },
  {
   "cell_type": "code",
   "execution_count": 3,
   "metadata": {},
   "outputs": [
    {
     "name": "stdout",
     "output_type": "stream",
     "text": [
      "Starting position: (1, 3), Stair position: (2, 3)\n",
      "Gold positions: [(2, 2), (0, 1), (0, 3), (1, 2)]\n",
      "\n",
      "Algorithm: A* (simple moves)\n",
      "Expanded nodes: 55\n",
      "Path: [(1, 3), (0, 3), (0, 2), (0, 1), (1, 2), (2, 2), (2, 3)]\n",
      "Actions: ['W', 'S', 'S', 'NE', 'E', 'N']\n",
      "Total score: 393.586\n",
      "\n",
      "\n",
      "Algorithm: A* (composite moves)\n",
      "Expanded nodes: 75\n",
      "Path: [(1, 3), (0, 3), (0, 2), (0, 1), (1, 2), (2, 2), (2, 3)]\n",
      "Actions: ['W', 'S', 'S', 'NE', 'E', 'N']\n",
      "Total score: 393.586\n",
      "\n",
      "\n",
      "Algorithm: Uniform Cost (simple moves)\n",
      "Expanded nodes: 19\n",
      "Path: [(1, 3), (0, 3), (1, 2), (2, 2), (1, 2), (0, 1), (1, 2), (2, 3)]\n",
      "Actions: ['W', 'SE', 'E', 'W', 'SW', 'NE', 'NE']\n",
      "Total score: 391.343\n",
      "\n",
      "\n",
      "Algorithm: Uniform Cost (composite moves)\n",
      "Expanded nodes: 26\n",
      "Path: [(1, 3), (1, 2), (0, 1), (0, 2), (0, 3), (1, 3), (2, 2), (2, 3)]\n",
      "Actions: ['S', 'SW', 'N', 'N', 'E', 'SE', 'N']\n",
      "Total score: 392.172\n",
      "\n",
      "\n",
      "Algorithm: Greedy (simple moves)\n",
      "Expanded nodes: 222\n",
      "Path: [(1, 3), (0, 2), (0, 1), (1, 2), (2, 3)]\n",
      "Actions: ['SW', 'S', 'NE', 'NE']\n",
      "Total score: 194.757\n",
      "\n",
      "\n",
      "Algorithm: Greedy (composite moves)\n",
      "Expanded nodes: 222\n",
      "Path: [(1, 3), (0, 2), (0, 1), (1, 2), (2, 3)]\n",
      "Actions: ['SW', 'S', 'NE', 'NE']\n",
      "Total score: 194.757\n",
      "\n",
      "\n"
     ]
    }
   ],
   "source": [
    "WIDTH = 4\n",
    "HEIGHT = 4\n",
    "N_GOLDS = 4\n",
    "N_LEPS = 0\n",
    "GOLD_SCORE = 100\n",
    "STAIR_SCORE = 0\n",
    "TIME_PENALTY = -1\n",
    "MAX_STEPS = 100\n",
    "\n",
    "SEARCH_ALGORITHMS = [a_star_search, uniform_cost_search, greedy_search]\n",
    "ALG_NAMES = ['A*', 'Uniform Cost', 'Greedy']\n",
    "ALLOWED_MOVES_FUNCTIONS = [ALLOWED_SIMPLE_MOVES, ALLOWED_COMPOSITE_MOVES]\n",
    "MOVE_NAMES = ['simple moves', 'composite moves']\n",
    "\n",
    "env = gym.make(\n",
    "    'MiniHack-MyTask-Custom-v0',\n",
    "    width=WIDTH,\n",
    "    height=HEIGHT,\n",
    "    n_leps=N_LEPS,\n",
    "    n_golds=N_GOLDS,\n",
    "    max_episode_steps=MAX_STEPS,\n",
    "    gold_score=GOLD_SCORE,\n",
    "    stair_score=STAIR_SCORE,\n",
    "    time_penalty=TIME_PENALTY\n",
    "    )\n",
    "\n",
    "print(f'Starting position: {env.agent_coord}, Stair position: {env.stair_coord}')\n",
    "print(f'Gold positions: {env.gold_coords}\\n')\n",
    "\n",
    "planning_stats = {}\n",
    "\n",
    "for search_algorithm, alg_name in zip(SEARCH_ALGORITHMS, ALG_NAMES):\n",
    "    temp = {}\n",
    "    for moves_function, moves_name in zip(ALLOWED_MOVES_FUNCTIONS, MOVE_NAMES):\n",
    "        plan, n_expanded = search_algorithm(env=env, allowed_moves_function=moves_function)\n",
    "        temp[moves_name] = {\n",
    "            'algorithm': search_algorithm,\n",
    "            'moves': moves_name,\n",
    "            'plan': plan,\n",
    "            'n_expanded': n_expanded\n",
    "        }\n",
    "        print(f'Algorithm: {alg_name} ({moves_name})\\nExpanded nodes: {n_expanded}')\n",
    "        plan.show(env=env)\n",
    "        print('\\n')\n",
    "    planning_stats[alg_name] = temp"
   ]
  },
  {
   "cell_type": "code",
   "execution_count": 4,
   "metadata": {},
   "outputs": [
    {
     "name": "stdout",
     "output_type": "stream",
     "text": [
      "A* (simple moves)\n",
      "Rewards: [0, 99.0, -1.0, 99.0, 98.586, 99.0, -1.0], sum: 393.586\n",
      "\n",
      "A* (composite moves)\n",
      "Rewards: [0, 99.0, -1.0, 99.0, 98.586, 99.0, -1.0], sum: 393.586\n",
      "\n",
      "Uniform Cost (simple moves)\n",
      "Rewards: [0, 99.0, 98.586, 99.0, -1.0, 98.586, -1.414, -1.414], sum: 391.343\n",
      "\n",
      "Uniform Cost (composite moves)\n",
      "Rewards: [0, 99.0, 98.586, -1.0, 99.0, -1.0, 98.586, -1.0], sum: 392.172\n",
      "\n",
      "Greedy (simple moves)\n",
      "Rewards: [0, -1.414, 99.0, 98.586, -1.414], sum: 194.757\n",
      "\n",
      "Greedy (composite moves)\n",
      "Rewards: [0, -1.414, 99.0, 98.586, -1.414], sum: 194.757\n",
      "\n"
     ]
    }
   ],
   "source": [
    "application_results = {}\n",
    "\n",
    "for algorithm in ALG_NAMES:\n",
    "    temp = {}\n",
    "    for moves in MOVE_NAMES:\n",
    "        env.myreset()\n",
    "        states, rewards, done = apply(env, planning_stats[algorithm][moves]['plan'])\n",
    "        temp[moves] = {\n",
    "            'states': states,\n",
    "            'rewards': rewards,\n",
    "            'done': done\n",
    "        }\n",
    "        rws_round = []\n",
    "        for r in rewards:\n",
    "            rws_round.append(round(r, 3))\n",
    "        sum_rws = sum(rewards)\n",
    "        sum_rws_round = round(sum_rws, 3)\n",
    "        print(f'{algorithm} ({moves})\\nRewards: {rws_round}, sum: {sum_rws_round}\\n')\n",
    "    application_results[algorithm] = temp"
   ]
  },
  {
   "cell_type": "code",
   "execution_count": 5,
   "metadata": {},
   "outputs": [
    {
     "data": {
      "image/png": "[encoded data removed]",
      "text/plain": [
       "<Figure size 640x480 with 1 Axes>"
      ]
     },
     "metadata": {},
     "output_type": "display_data"
    }
   ],
   "source": [
    "show_episode(application_results['A*']['simple moves']['states'], clear_output=True)"
   ]
  },
  {
   "cell_type": "markdown",
   "metadata": {},
   "source": [
    "## Online search"
   ]
  },
  {
   "cell_type": "code",
   "execution_count": 2,
   "metadata": {},
   "outputs": [],
   "source": [
    "from online_search import online_greedy_search, online_random_greedy_search, simulated_annealing"
   ]
  },
  {
   "cell_type": "code",
   "execution_count": 20,
   "metadata": {},
   "outputs": [
    {
     "name": "stdout",
     "output_type": "stream",
     "text": [
      "Starting position: (3, 4), Stair position: (2, 0)\n",
      "Gold positions: [(1, 2), (1, 0), (4, 3), (3, 4), (4, 2)]\n",
      "\n",
      "Online Greedy Search\n",
      "Rewards: [0.0, 98.586, 99.0, -1.0, -201.414, -1.0], sum: -5.828\n",
      "\n"
     ]
    }
   ],
   "source": [
    "WIDTH = 5\n",
    "HEIGHT = 5\n",
    "N_GOLDS = 5\n",
    "N_LEPS = 5\n",
    "GOLD_SCORE = 100\n",
    "STAIR_SCORE = 0\n",
    "TIME_PENALTY = -1\n",
    "MAX_STEPS = 100\n",
    "\n",
    "env = gym.make(\n",
    "    'MiniHack-MyTask-Custom-v0',\n",
    "    width=WIDTH,\n",
    "    height=HEIGHT,\n",
    "    n_leps=N_LEPS,\n",
    "    n_golds=N_GOLDS,\n",
    "    max_episode_steps=MAX_STEPS,\n",
    "    gold_score=GOLD_SCORE,\n",
    "    stair_score=STAIR_SCORE,\n",
    "    time_penalty=TIME_PENALTY\n",
    "    )\n",
    "\n",
    "print(f'Starting position: {env.agent_coord}, Stair position: {env.stair_coord}')\n",
    "print(f'Gold positions: {env.gold_coords}\\n')\n",
    "\n",
    "env.myreset()\n",
    "states, rewards, done, i = online_greedy_search(env=env, max_steps=MAX_STEPS)\n",
    "rws_round = [round(r, 3) for r in rewards]\n",
    "sum_rws_round = round(sum(rewards), 3)\n",
    "print(f'Online Greedy Search\\nRewards: {rws_round}, sum: {sum_rws_round}\\n')"
   ]
  },
  {
   "cell_type": "code",
   "execution_count": 21,
   "metadata": {},
   "outputs": [
    {
     "data": {
      "image/png": "[encoded data removed]",
      "text/plain": [
       "<Figure size 640x480 with 1 Axes>"
      ]
     },
     "metadata": {},
     "output_type": "display_data"
    }
   ],
   "source": [
    "show_episode(states, clear_output=True)"
   ]
  },
  {
   "cell_type": "code",
   "execution_count": null,
   "metadata": {},
   "outputs": [],
   "source": []
  },
  {
   "cell_type": "code",
   "execution_count": 16,
   "metadata": {},
   "outputs": [
    {
     "name": "stdout",
     "output_type": "stream",
     "text": [
      "Starting position: (0, 4), Stair position: (2, 0)\n",
      "Gold positions: [(1, 1), (0, 1), (1, 3), (2, 4), (2, 0)]\n",
      "\n",
      "Online Greedy Search\n",
      "Rewards: [0.0, -1.0, -1.414, -1.414, 99.0, 98.586, -1.0, -1.414, -1.414, -1.0, -1.0, -1.414, -1.0, 98.586, -1.414, -1.414, -1.0, -1.0, 98.586], sum: 377.858\n",
      "\n"
     ]
    }
   ],
   "source": [
    "WIDTH = 5\n",
    "HEIGHT = 5\n",
    "N_GOLDS = 5\n",
    "N_LEPS = 0\n",
    "GOLD_SCORE = 100\n",
    "STAIR_SCORE = 0\n",
    "TIME_PENALTY = -1\n",
    "MAX_STEPS = 100\n",
    "\n",
    "env = gym.make(\n",
    "    'MiniHack-MyTask-Custom-v0',\n",
    "    width=WIDTH,\n",
    "    height=HEIGHT,\n",
    "    n_leps=N_LEPS,\n",
    "    n_golds=N_GOLDS,\n",
    "    max_episode_steps=MAX_STEPS,\n",
    "    gold_score=GOLD_SCORE,\n",
    "    stair_score=STAIR_SCORE,\n",
    "    time_penalty=TIME_PENALTY\n",
    "    )\n",
    "\n",
    "print(f'Starting position: {env.agent_coord}, Stair position: {env.stair_coord}')\n",
    "print(f'Gold positions: {env.gold_coords}\\n')\n",
    "\n",
    "env.myreset()\n",
    "states, rewards, done, iters, steps = simulated_annealing(env=env, max_steps=MAX_STEPS, k=1)\n",
    "rws_round = [round(r, 3) for r in rewards]\n",
    "sum_rws_round = round(sum(rewards), 3)\n",
    "print(f'Online Greedy Search\\nRewards: {rws_round}, sum: {sum_rws_round}\\n')"
   ]
  },
  {
   "cell_type": "code",
   "execution_count": 45,
   "metadata": {},
   "outputs": [
    {
     "data": {
      "image/png": "[encoded data removed]",
      "text/plain": [
       "<Figure size 640x480 with 1 Axes>"
      ]
     },
     "metadata": {},
     "output_type": "display_data"
    }
   ],
   "source": [
    "show_episode(states, clear_output=True)"
   ]
  },
  {
   "cell_type": "code",
   "execution_count": 55,
   "metadata": {},
   "outputs": [
    {
     "name": "stdout",
     "output_type": "stream",
     "text": [
      "True\n",
      "24\n",
      "21\n"
     ]
    }
   ],
   "source": [
    "print(done)\n",
    "print(iters)\n",
    "print(steps)"
   ]
  },
  {
   "cell_type": "code",
   "execution_count": null,
   "metadata": {},
   "outputs": [],
   "source": []
  },
  {
   "cell_type": "code",
   "execution_count": 41,
   "metadata": {},
   "outputs": [
    {
     "name": "stdout",
     "output_type": "stream",
     "text": [
      "Starting position: (3, 0), Stair position: (2, 2)\n",
      "Gold positions: [(1, 3), (2, 0), (2, 3), (0, 2), (0, 1)]\n",
      "\n",
      "Online Greedy Search\n",
      "Rewards: [0.0, -1.0, -1.414, -1.414, -1.0, -1.414, -1.0, -1.414, -1.0, -1.414, -1.414, -1.414, -1.0, -1.414, -1.0, -1.0, -1.0, -1.0, -1.0, -1.0, -1.0, -1.0, -1.414], sum: -25.728\n",
      "\n"
     ]
    }
   ],
   "source": [
    "WIDTH = 5\n",
    "HEIGHT = 5\n",
    "N_GOLDS = 5\n",
    "N_LEPS = 5\n",
    "GOLD_SCORE = 100\n",
    "STAIR_SCORE = 0\n",
    "TIME_PENALTY = -1\n",
    "MAX_STEPS = 100\n",
    "\n",
    "env = gym.make(\n",
    "    'MiniHack-MyTask-Custom-v0',\n",
    "    width=WIDTH,\n",
    "    height=HEIGHT,\n",
    "    n_leps=N_LEPS,\n",
    "    n_golds=N_GOLDS,\n",
    "    max_episode_steps=MAX_STEPS,\n",
    "    gold_score=GOLD_SCORE,\n",
    "    stair_score=STAIR_SCORE,\n",
    "    time_penalty=TIME_PENALTY\n",
    "    )\n",
    "\n",
    "print(f'Starting position: {env.agent_coord}, Stair position: {env.stair_coord}')\n",
    "print(f'Gold positions: {env.gold_coords}\\n')\n",
    "\n",
    "env.myreset()\n",
    "states, rewards, done, i = online_random_greedy_search(env=env, max_steps=MAX_STEPS, prob_rand_move=1, decay=0)\n",
    "rws_round = [round(r, 3) for r in rewards]\n",
    "sum_rws_round = round(sum(rewards), 3)\n",
    "print(f'Online Greedy Search\\nRewards: {rws_round}, sum: {sum_rws_round}\\n')"
   ]
  },
  {
   "cell_type": "code",
   "execution_count": 38,
   "metadata": {},
   "outputs": [
    {
     "data": {
      "image/png": "[encoded data removed]",
      "text/plain": [
       "<Figure size 640x480 with 1 Axes>"
      ]
     },
     "metadata": {},
     "output_type": "display_data"
    }
   ],
   "source": [
    "show_episode(states, clear_output=True)"
   ]
  },
  {
   "cell_type": "code",
   "execution_count": 42,
   "metadata": {},
   "outputs": [
    {
     "name": "stdout",
     "output_type": "stream",
     "text": [
      "True\n",
      "22\n"
     ]
    }
   ],
   "source": [
    "print(done)\n",
    "print(i)"
   ]
  },
  {
   "cell_type": "code",
   "execution_count": null,
   "metadata": {},
   "outputs": [],
   "source": []
  },
  {
   "cell_type": "code",
   "execution_count": 9,
   "metadata": {},
   "outputs": [
    {
     "name": "stderr",
     "output_type": "stream",
     "text": [
      "4x4:   0%|          | 0/1 [00:00<?, ?it/s]"
     ]
    },
    {
     "name": "stderr",
     "output_type": "stream",
     "text": [
      "4x4: 100%|██████████| 1/1 [00:01<00:00,  1.45s/it]\n",
      "5x5: 100%|██████████| 2/2 [00:02<00:00,  1.26s/it]\n",
      "6x6: 100%|██████████| 3/3 [00:05<00:00,  1.70s/it]\n",
      "7x7: 100%|██████████| 4/4 [00:09<00:00,  2.31s/it]\n",
      "8x8: 100%|██████████| 6/6 [00:21<00:00,  3.50s/it]\n",
      "9x9: 100%|██████████| 8/8 [01:02<00:00,  7.82s/it]\n",
      "10x10: 100%|██████████| 10/10 [03:47<00:00, 22.74s/it]\n"
     ]
    }
   ],
   "source": [
    "WIDTH = list(range(4, 11))\n",
    "HEIGHT = WIDTH\n",
    "N_GOLDS = lambda width, height: int(width * height * 0.1)\n",
    "N_LEPS = 0\n",
    "GOLD_SCORE = 100\n",
    "STAIR_SCORE = 0\n",
    "TIME_PENALTY = -1\n",
    "MAX_STEPS = 1000\n",
    "SAMPLES_PER_SETTING = 10\n",
    "\n",
    "settings = []\n",
    "\n",
    "for width, height in zip(WIDTH, HEIGHT):\n",
    "    for n_golds in tqdm(range(N_GOLDS(width=width, height=height)), total=N_GOLDS(width=width, height=height), desc=f'{width}x{height}'):\n",
    "        setting = {\n",
    "            'width': width,\n",
    "            'height': height,\n",
    "            'n_golds': n_golds,\n",
    "            'samples': [],\n",
    "            'stats': []\n",
    "        }\n",
    "        for _ in range(SAMPLES_PER_SETTING):\n",
    "            env = gym.make(\n",
    "                'MiniHack-MyTask-Custom-v0',\n",
    "                width=width,\n",
    "                height=height,\n",
    "                n_leps=N_LEPS,\n",
    "                n_golds=n_golds,\n",
    "                max_episode_steps=MAX_STEPS,\n",
    "                gold_score=GOLD_SCORE,\n",
    "                stair_score=STAIR_SCORE,\n",
    "                time_penalty=TIME_PENALTY\n",
    "                )\n",
    "            \n",
    "            setting['samples'].append(env)\n",
    "\n",
    "            plan, n_expanded = a_star_search(env=env, allowed_moves_function=ALLOWED_SIMPLE_MOVES)\n",
    "\n",
    "            # -----------------------------------------------------------------------------------------------------------\n",
    "\n",
    "            env.myreset()\n",
    "            states, rewards, done = apply(env, plan)\n",
    "\n",
    "            rws_round = []\n",
    "            for r in rewards:\n",
    "                rws_round.append(round(r, 3))\n",
    "            sum_rws = sum(rewards)\n",
    "            sum_rws_round = round(sum_rws, 3)\n",
    "\n",
    "            sample_stats = {\n",
    "                'optimal_score': sum_rws_round,\n",
    "                'optimal_path': plan.path\n",
    "            }\n",
    "\n",
    "            # -----------------------------------------------------------------------------------------------------------\n",
    "\n",
    "            env.myreset()\n",
    "            states, rewards, done, i = online_search_f(env=env, max_steps=MAX_STEPS)\n",
    "\n",
    "            rws_round = [round(r, 3) for r in rewards]\n",
    "            sum_rws_round = round(sum(rewards), 3)\n",
    "\n",
    "            sample_stats['online_search_score'] = sum_rws_round\n",
    "            sample_stats['online_search_path'] = [state['agent_coord'] for state in states]\n",
    "\n",
    "            setting['stats'].append(sample_stats)\n",
    "\n",
    "            # -----------------------------------------------------------------------------------------------------------\n",
    "\n",
    "    settings.append(setting)\n",
    "\n"
   ]
  },
  {
   "cell_type": "code",
   "execution_count": 10,
   "metadata": {},
   "outputs": [
    {
     "data": {
      "image/png": "[encoded data removed]",
      "text/plain": [
       "<Figure size 640x480 with 1 Axes>"
      ]
     },
     "metadata": {},
     "output_type": "display_data"
    }
   ],
   "source": [
    "score_dists = [np.mean([np.abs(np.array(setting['stats'][i]['optimal_score']) - np.array(setting['stats'][i]['online_search_score'])) for i in range(SAMPLES_PER_SETTING)]) for setting in settings]\n",
    "\n",
    "x_values = [width * height for width, height in zip(WIDTH, HEIGHT)]\n",
    "y_values = score_dists\n",
    "\n",
    "plt.plot(x_values, y_values, label='Score differences', marker='o')\n",
    "plt.xticks(x_values, x_values)\n",
    "\n",
    "plt.xlabel('grid dimention')\n",
    "\n",
    "plt.legend()\n",
    "\n",
    "plt.show()"
   ]
  },
  {
   "cell_type": "markdown",
   "metadata": {},
   "source": [
    "## --"
   ]
  },
  {
   "cell_type": "code",
   "execution_count": 28,
   "metadata": {},
   "outputs": [],
   "source": [
    "from gold_room_env import MiniHackGoldRoom\n",
    "from utils import show_episode\n",
    "import gym\n",
    "from tqdm import tqdm\n",
    "import json\n",
    "from typing import Callable, List\n",
    "import numpy as np\n",
    "import matplotlib.pyplot as plt\n",
    "from online_search import online_greedy_search, online_random_greedy_search, simulated_annealing"
   ]
  },
  {
   "cell_type": "code",
   "execution_count": 3,
   "metadata": {},
   "outputs": [
    {
     "name": "stderr",
     "output_type": "stream",
     "text": [
      "Num golds: 1, Gold score: 1, Size: 2x2: 100%|██████████| 3/3 [00:01<00:00,  1.64it/s]\n",
      "Num golds: 2, Gold score: 1, Size: 2x2: 100%|██████████| 3/3 [00:01<00:00,  2.06it/s]\n",
      "Num golds: 1, Gold score: 2, Size: 2x2: 100%|██████████| 3/3 [00:01<00:00,  2.58it/s]\n",
      "Num golds: 2, Gold score: 2, Size: 2x2: 100%|██████████| 3/3 [00:01<00:00,  2.67it/s]\n",
      "Num golds: 1, Gold score: 3, Size: 2x2: 100%|██████████| 3/3 [00:01<00:00,  2.66it/s]\n",
      "Num golds: 2, Gold score: 3, Size: 2x2: 100%|██████████| 3/3 [00:01<00:00,  2.22it/s]\n",
      "Num golds: 1, Gold score: 4, Size: 2x2: 100%|██████████| 3/3 [00:01<00:00,  2.24it/s]\n",
      "Num golds: 2, Gold score: 4, Size: 2x2: 100%|██████████| 3/3 [00:01<00:00,  2.52it/s]\n",
      "Num golds: 1, Gold score: 5, Size: 2x2: 100%|██████████| 3/3 [00:01<00:00,  2.37it/s]\n",
      "Num golds: 2, Gold score: 5, Size: 2x2: 100%|██████████| 3/3 [00:01<00:00,  2.04it/s]\n",
      "Num golds: 1, Gold score: 1, Size: 3x3: 100%|██████████| 3/3 [00:01<00:00,  2.42it/s]\n",
      "Num golds: 2, Gold score: 1, Size: 3x3: 100%|██████████| 3/3 [00:01<00:00,  2.41it/s]\n",
      "Num golds: 1, Gold score: 2, Size: 3x3: 100%|██████████| 3/3 [00:01<00:00,  2.72it/s]\n",
      "Num golds: 2, Gold score: 2, Size: 3x3: 100%|██████████| 3/3 [00:01<00:00,  2.04it/s]\n",
      "Num golds: 1, Gold score: 3, Size: 3x3: 100%|██████████| 3/3 [00:01<00:00,  2.10it/s]\n",
      "Num golds: 2, Gold score: 3, Size: 3x3: 100%|██████████| 3/3 [00:01<00:00,  1.85it/s]\n",
      "Num golds: 1, Gold score: 4, Size: 3x3: 100%|██████████| 3/3 [00:01<00:00,  2.13it/s]\n",
      "Num golds: 2, Gold score: 4, Size: 3x3: 100%|██████████| 3/3 [00:01<00:00,  2.10it/s]\n",
      "Num golds: 1, Gold score: 5, Size: 3x3: 100%|██████████| 3/3 [00:01<00:00,  2.38it/s]\n",
      "Num golds: 2, Gold score: 5, Size: 3x3: 100%|██████████| 3/3 [00:01<00:00,  2.15it/s]\n",
      "Num golds: 1, Gold score: 1, Size: 4x4: 100%|██████████| 3/3 [00:01<00:00,  1.84it/s]\n",
      "Num golds: 2, Gold score: 1, Size: 4x4: 100%|██████████| 3/3 [00:01<00:00,  2.36it/s]\n",
      "Num golds: 1, Gold score: 2, Size: 4x4: 100%|██████████| 3/3 [00:01<00:00,  2.00it/s]\n",
      "Num golds: 2, Gold score: 2, Size: 4x4: 100%|██████████| 3/3 [00:01<00:00,  2.13it/s]\n",
      "Num golds: 1, Gold score: 3, Size: 4x4: 100%|██████████| 3/3 [00:01<00:00,  2.00it/s]\n",
      "Num golds: 2, Gold score: 3, Size: 4x4: 100%|██████████| 3/3 [00:01<00:00,  2.21it/s]\n",
      "Num golds: 1, Gold score: 4, Size: 4x4: 100%|██████████| 3/3 [00:01<00:00,  2.07it/s]\n",
      "Num golds: 2, Gold score: 4, Size: 4x4: 100%|██████████| 3/3 [00:01<00:00,  1.62it/s]\n",
      "Num golds: 1, Gold score: 5, Size: 4x4: 100%|██████████| 3/3 [00:01<00:00,  1.67it/s]\n",
      "Num golds: 2, Gold score: 5, Size: 4x4: 100%|██████████| 3/3 [00:01<00:00,  1.83it/s]\n",
      "Num golds: 1, Gold score: 1, Size: 5x5: 100%|██████████| 3/3 [00:01<00:00,  1.89it/s]\n",
      "Num golds: 2, Gold score: 1, Size: 5x5: 100%|██████████| 3/3 [00:01<00:00,  1.57it/s]\n",
      "Num golds: 1, Gold score: 2, Size: 5x5: 100%|██████████| 3/3 [00:01<00:00,  1.86it/s]\n",
      "Num golds: 2, Gold score: 2, Size: 5x5: 100%|██████████| 3/3 [00:01<00:00,  1.73it/s]\n",
      "Num golds: 1, Gold score: 3, Size: 5x5: 100%|██████████| 3/3 [00:01<00:00,  2.07it/s]\n",
      "Num golds: 2, Gold score: 3, Size: 5x5: 100%|██████████| 3/3 [00:01<00:00,  1.92it/s]\n",
      "Num golds: 1, Gold score: 4, Size: 5x5: 100%|██████████| 3/3 [00:01<00:00,  2.18it/s]\n",
      "Num golds: 2, Gold score: 4, Size: 5x5: 100%|██████████| 3/3 [00:01<00:00,  1.95it/s]\n",
      "Num golds: 1, Gold score: 5, Size: 5x5: 100%|██████████| 3/3 [00:01<00:00,  1.76it/s]\n",
      "Num golds: 2, Gold score: 5, Size: 5x5: 100%|██████████| 3/3 [00:01<00:00,  1.98it/s]\n",
      "Num golds: 1, Gold score: 1, Size: 6x6: 100%|██████████| 3/3 [00:02<00:00,  1.24it/s]\n",
      "Num golds: 2, Gold score: 1, Size: 6x6: 100%|██████████| 3/3 [00:01<00:00,  1.53it/s]\n",
      "Num golds: 1, Gold score: 2, Size: 6x6: 100%|██████████| 3/3 [00:01<00:00,  1.61it/s]\n",
      "Num golds: 2, Gold score: 2, Size: 6x6: 100%|██████████| 3/3 [00:02<00:00,  1.46it/s]\n",
      "Num golds: 1, Gold score: 3, Size: 6x6: 100%|██████████| 3/3 [00:01<00:00,  2.07it/s]\n",
      "Num golds: 2, Gold score: 3, Size: 6x6: 100%|██████████| 3/3 [00:01<00:00,  2.00it/s]\n",
      "Num golds: 1, Gold score: 4, Size: 6x6: 100%|██████████| 3/3 [00:01<00:00,  1.91it/s]\n",
      "Num golds: 2, Gold score: 4, Size: 6x6: 100%|██████████| 3/3 [00:01<00:00,  1.74it/s]\n",
      "Num golds: 1, Gold score: 5, Size: 6x6: 100%|██████████| 3/3 [00:01<00:00,  1.98it/s]\n",
      "Num golds: 2, Gold score: 5, Size: 6x6: 100%|██████████| 3/3 [00:02<00:00,  1.32it/s]\n",
      "Num golds: 1, Gold score: 1, Size: 7x7: 100%|██████████| 3/3 [00:02<00:00,  1.10it/s]\n",
      "Num golds: 2, Gold score: 1, Size: 7x7: 100%|██████████| 3/3 [00:01<00:00,  1.52it/s]\n",
      "Num golds: 1, Gold score: 2, Size: 7x7: 100%|██████████| 3/3 [00:02<00:00,  1.23it/s]\n",
      "Num golds: 2, Gold score: 2, Size: 7x7: 100%|██████████| 3/3 [00:02<00:00,  1.32it/s]\n",
      "Num golds: 1, Gold score: 3, Size: 7x7: 100%|██████████| 3/3 [00:02<00:00,  1.41it/s]\n",
      "Num golds: 2, Gold score: 3, Size: 7x7: 100%|██████████| 3/3 [00:01<00:00,  1.98it/s]\n",
      "Num golds: 1, Gold score: 4, Size: 7x7: 100%|██████████| 3/3 [00:01<00:00,  1.73it/s]\n",
      "Num golds: 2, Gold score: 4, Size: 7x7: 100%|██████████| 3/3 [00:01<00:00,  1.78it/s]\n",
      "Num golds: 1, Gold score: 5, Size: 7x7: 100%|██████████| 3/3 [00:01<00:00,  2.32it/s]\n",
      "Num golds: 2, Gold score: 5, Size: 7x7: 100%|██████████| 3/3 [00:01<00:00,  1.74it/s]\n",
      "Num golds: 1, Gold score: 1, Size: 8x8: 100%|██████████| 3/3 [00:02<00:00,  1.00it/s]\n",
      "Num golds: 2, Gold score: 1, Size: 8x8: 100%|██████████| 3/3 [00:03<00:00,  1.09s/it]\n",
      "Num golds: 1, Gold score: 2, Size: 8x8: 100%|██████████| 3/3 [00:02<00:00,  1.22it/s]\n",
      "Num golds: 2, Gold score: 2, Size: 8x8: 100%|██████████| 3/3 [00:02<00:00,  1.03it/s]\n",
      "Num golds: 1, Gold score: 3, Size: 8x8: 100%|██████████| 3/3 [00:02<00:00,  1.41it/s]\n",
      "Num golds: 2, Gold score: 3, Size: 8x8: 100%|██████████| 3/3 [00:01<00:00,  1.98it/s]\n",
      "Num golds: 1, Gold score: 4, Size: 8x8: 100%|██████████| 3/3 [00:02<00:00,  1.46it/s]\n",
      "Num golds: 2, Gold score: 4, Size: 8x8: 100%|██████████| 3/3 [00:02<00:00,  1.34it/s]\n",
      "Num golds: 1, Gold score: 5, Size: 8x8: 100%|██████████| 3/3 [00:02<00:00,  1.36it/s]\n",
      "Num golds: 2, Gold score: 5, Size: 8x8: 100%|██████████| 3/3 [00:01<00:00,  1.79it/s]\n"
     ]
    }
   ],
   "source": [
    "WIDTH = [2, 3, 4, 5, 6, 7, 8]\n",
    "HEIGHT = WIDTH\n",
    "N_GOLDS = lambda width, height: 3#lambda width, height: int(width * height * 0.4)\n",
    "N_LEPS = lambda width, height: 3#lambda width, height: int(width * height * 0.4)\n",
    "GOLD_SCORE = [1, 2, 3, 4, 5]\n",
    "STAIR_SCORE = 0\n",
    "TIME_PENALTY = [-1]#[-1, -2, -3, -4, -5]\n",
    "\n",
    "MAX_STEPS = 1000\n",
    "EPISODES_PER_INIT = 5\n",
    "\n",
    "#episode = {\n",
    "#    'init': {\n",
    "#        'width':\n",
    "#        'height':\n",
    "#        'n_golds':\n",
    "#        'n_leps':\n",
    "#        'gold_score':\n",
    "#        'time_penalty':\n",
    "#    }\n",
    "#    'algorithm': \n",
    "#    'results': {\n",
    "#        'rewards':\n",
    "#        'steps':\n",
    "#        'iters':\n",
    "#        'gold_thefts':\n",
    "#        'gold_gains':\n",
    "##mean, var, kurt, ent\n",
    "#    }\n",
    "#}\n",
    "\n",
    "episodes = []\n",
    "\n",
    "for width, height in zip(WIDTH, HEIGHT):\n",
    "    for time_penalty in TIME_PENALTY:\n",
    "        for gold_score in GOLD_SCORE:\n",
    "            for n_golds in range(1, N_GOLDS(width=width, height=height)):\n",
    "                for n_leps in tqdm(range(N_LEPS(width=width, height=height)), total=N_LEPS(width=width, height=height), desc=f'Num golds: {n_golds}, Gold score: {gold_score}, Size: {width}x{height}'):\n",
    "                    #for time_penalty in TIME_PENALTY:\n",
    "                    init = {\n",
    "                        'width': width,\n",
    "                        'height': height,\n",
    "                        'n_golds': n_golds,\n",
    "                        'n_leps': n_leps,\n",
    "                        'gold_score': gold_score\n",
    "                    }\n",
    "\n",
    "                    for _ in range(EPISODES_PER_INIT):\n",
    "\n",
    "                        env = gym.make(\n",
    "                            'MiniHack-MyTask-Custom-v0',\n",
    "                            width=width,\n",
    "                            height=height,\n",
    "                            n_leps=n_leps,\n",
    "                            n_golds=n_golds,\n",
    "                            max_episode_steps=MAX_STEPS,\n",
    "                            gold_score=gold_score,\n",
    "                            stair_score=STAIR_SCORE,\n",
    "                            time_penalty=time_penalty\n",
    "                            )\n",
    "\n",
    "                        env.myreset()\n",
    "                        states, rewards, done, iters = online_greedy_search(env=env, max_steps=MAX_STEPS)\n",
    "\n",
    "                        gold_thefts = [-gold_score for r in rewards if r < time_penalty]\n",
    "                        gold_gains = [gold_score for r in rewards if r > time_penalty]\n",
    "\n",
    "                        algorithm = 'online_greedy_search'\n",
    "\n",
    "                        results = {\n",
    "                            'rewards':rewards,\n",
    "                            'steps': iters,\n",
    "                            'iters': iters,\n",
    "                            'gold_thefts': gold_thefts,\n",
    "                            'gold_gains': gold_gains\n",
    "                        }\n",
    "\n",
    "                        episode = {\n",
    "                            'init': init,\n",
    "                            'algorithm': algorithm,\n",
    "                            'results': results\n",
    "                        }\n",
    "\n",
    "                        episodes.append(episode)"
   ]
  },
  {
   "cell_type": "code",
   "execution_count": 4,
   "metadata": {},
   "outputs": [],
   "source": [
    "with open('episodes.json', 'w') as f:\n",
    "    json.dump(episodes, f)"
   ]
  },
  {
   "cell_type": "code",
   "execution_count": 3,
   "metadata": {},
   "outputs": [],
   "source": [
    "with open('episodes.json', 'r') as f:\n",
    "    episodes = json.load(f)"
   ]
  },
  {
   "cell_type": "code",
   "execution_count": 6,
   "metadata": {},
   "outputs": [
    {
     "data": {
      "text/plain": [
       "{'init': {'width': 2, 'height': 2, 'n_golds': 1, 'n_leps': 0, 'gold_score': 1},\n",
       " 'algorithm': 'online_greedy_search',\n",
       " 'results': {'rewards': [0.0, -1.0],\n",
       "  'steps': 1,\n",
       "  'iters': 1,\n",
       "  'gold_thefts': [],\n",
       "  'gold_gains': [1]}}"
      ]
     },
     "execution_count": 6,
     "metadata": {},
     "output_type": "execute_result"
    }
   ],
   "source": [
    "episodes[0]"
   ]
  },
  {
   "cell_type": "code",
   "execution_count": 19,
   "metadata": {},
   "outputs": [
    {
     "data": {
      "image/png": "[encoded data removed]",
      "text/plain": [
       "<Figure size 640x480 with 1 Axes>"
      ]
     },
     "metadata": {},
     "output_type": "display_data"
    }
   ],
   "source": [
    "WIDTH = [2, 3, 4, 5, 6, 7, 8]\n",
    "HEIGHT = WIDTH\n",
    "def get_values(episodes: list, fixed_variables: List[str], fixed_values: List[float], variable_of_interest: str, f: Callable[list, list] = (lambda x: x)):\n",
    "    \n",
    "    values_of_interest = [episode['results'][variable_of_interest] for episode in episodes if np.all([episode['init'][fixed_variable] == fixed_value for fixed_variable, fixed_value in zip(fixed_variables, fixed_values)])]\n",
    "    return f(values_of_interest)\n",
    "\n",
    "values_to_plot = []\n",
    "for w in WIDTH:\n",
    "    final_scores = get_values(fixed_variables=['width'], fixed_values=[w], variable_of_interest='rewards', f=(lambda x: [np.sum(item) for item in x]), episodes=episodes)\n",
    "    values_to_plot.append(np.mean(final_scores))\n",
    "\n",
    "x_values = [width * height for width, height in zip(WIDTH, HEIGHT)]\n",
    "y_values = values_to_plot\n",
    "\n",
    "plt.plot(x_values, y_values, label='Average Score', marker='o')\n",
    "plt.xticks(x_values, x_values)\n",
    "\n",
    "plt.xlabel('Grid Dimention')\n",
    "plt.ylabel('Average Score')\n",
    "\n",
    "plt.legend()\n",
    "\n",
    "plt.show()"
   ]
  },
  {
   "cell_type": "code",
   "execution_count": 27,
   "metadata": {},
   "outputs": [
    {
     "data": {
      "image/png": "[encoded data removed]",
      "text/plain": [
       "<Figure size 640x480 with 1 Axes>"
      ]
     },
     "metadata": {},
     "output_type": "display_data"
    }
   ],
   "source": [
    "N_GOLDS = lambda width, height: 3#lambda width, height: int(width * height * 0.4)\n",
    "N_LEPS = lambda width, height: 3#lambda width, height: int(width * height * 0.4)\n",
    "\n",
    "values_to_plot = []\n",
    "for n_leps in range(N_LEPS(8, 8)):\n",
    "    n_gold_thefts = get_values(fixed_variables=['n_leps', 'width'], fixed_values=[n_leps, 6], variable_of_interest='gold_thefts', f=(lambda x: [len(item) for item in x]), episodes=episodes)\n",
    "    values_to_plot.append(np.mean(n_gold_thefts))\n",
    "\n",
    "x_values = [n_leps for n_leps in range(N_LEPS(8, 8))]\n",
    "y_values = values_to_plot\n",
    "\n",
    "plt.plot(x_values, y_values, label='Average number of thefts', marker='o')\n",
    "plt.xticks(x_values, x_values)\n",
    "\n",
    "plt.xlabel('Num Leps')\n",
    "plt.ylabel('Average number of thefts')\n",
    "\n",
    "plt.legend()\n",
    "\n",
    "plt.show()"
   ]
  },
  {
   "cell_type": "code",
   "execution_count": 1,
   "metadata": {},
   "outputs": [],
   "source": [
    "from gold_room_env import MiniHackGoldRoom\n",
    "from utils import show_episode, run_episodes\n",
    "import gym\n",
    "from tqdm import tqdm\n",
    "import json\n",
    "from typing import Callable, List\n",
    "import numpy as np\n",
    "import matplotlib.pyplot as plt\n",
    "from online_search import online_greedy_search, online_random_greedy_search, simulated_annealing"
   ]
  },
  {
   "cell_type": "code",
   "execution_count": 2,
   "metadata": {},
   "outputs": [
    {
     "name": "stderr",
     "output_type": "stream",
     "text": [
      "Size: 4x4: 100%|██████████| 2/2 [01:35<00:00, 47.54s/it]\n",
      "Size: 6x6: 100%|██████████| 2/2 [02:21<00:00, 70.91s/it]\n",
      "Size: 8x8: 100%|██████████| 2/2 [03:19<00:00, 99.51s/it]\n"
     ]
    }
   ],
   "source": [
    "from gold_room_env import MiniHackGoldRoom\n",
    "from utils import show_episode, run_episodes\n",
    "import gym\n",
    "from tqdm import tqdm\n",
    "import json\n",
    "from typing import Callable, List\n",
    "import numpy as np\n",
    "import matplotlib.pyplot as plt\n",
    "from online_search import online_greedy_search, online_random_greedy_search, simulated_annealing\n",
    "\n",
    "WIDTHS = [4, 6, 8]\n",
    "HEIGHTS = WIDTHS\n",
    "N_GOLDS = [1, 4, 8]\n",
    "N_LEPS = [0, 2, 4]\n",
    "GOLD_SCORES = [1, 2, 10]\n",
    "STAIR_SCORES = [0]\n",
    "TIME_PENALTIES = [-1, -2]#[-1, -2, -3, -4, -5]\n",
    "\n",
    "MAX_STEPS = 1000\n",
    "EPISODES_PER_INIT = 5\n",
    "\n",
    "episodes = run_episodes(\n",
    "    widths = WIDTHS,\n",
    "    heights = HEIGHTS,\n",
    "    n_golds = N_GOLDS,\n",
    "    n_leps = N_LEPS,\n",
    "    gold_scores = GOLD_SCORES,\n",
    "    stair_scores = STAIR_SCORES,\n",
    "    time_penalties = TIME_PENALTIES,\n",
    "    algorithms = [online_greedy_search, online_random_greedy_search],\n",
    "    alg_paramss = [[{}], [{'prob_rand_move': 0.9, 'decay': 0}, {'prob_rand_move': 0.5, 'decay': 0.5}]],\n",
    "    max_steps = MAX_STEPS,\n",
    "    n_episodes = EPISODES_PER_INIT\n",
    "    )"
   ]
  },
  {
   "cell_type": "code",
   "execution_count": 3,
   "metadata": {},
   "outputs": [],
   "source": [
    "with open('episodes3.json', 'w') as f:\n",
    "    json.dump(episodes, f)"
   ]
  },
  {
   "cell_type": "code",
   "execution_count": 2,
   "metadata": {},
   "outputs": [],
   "source": [
    "with open('episodes3.json', 'r') as f:\n",
    "    episodes = json.load(f)"
   ]
  },
  {
   "cell_type": "code",
   "execution_count": 5,
   "metadata": {},
   "outputs": [
    {
     "data": {
      "text/plain": [
       "{'init': {'width': 4,\n",
       "  'height': 4,\n",
       "  'n_golds': 1,\n",
       "  'n_leps': 0,\n",
       "  'gold_score': 1,\n",
       "  'time_penalty': -1},\n",
       " 'algorithm': {'name': 'online_greedy_search', 'params': {}},\n",
       " 'results': {'rewards': [0.0, 0.0, -1.4142135623730951],\n",
       "  'steps': 2,\n",
       "  'iters': 2,\n",
       "  'gold_thefts': [-1],\n",
       "  'gold_gains': [1, 1],\n",
       "  'done': True}}"
      ]
     },
     "execution_count": 5,
     "metadata": {},
     "output_type": "execute_result"
    }
   ],
   "source": [
    "episodes[0]"
   ]
  },
  {
   "cell_type": "code",
   "execution_count": 17,
   "metadata": {},
   "outputs": [
    {
     "data": {
      "image/png": "[encoded data removed]",
      "text/plain": [
       "<Figure size 640x480 with 1 Axes>"
      ]
     },
     "metadata": {},
     "output_type": "display_data"
    }
   ],
   "source": [
    "from utils import get_plot\n",
    "\n",
    "plt = get_plot(\n",
    "    episodes = episodes[0:2000],\n",
    "    fixed = [('n_golds', 4)],\n",
    "    x_variable = 'n_leps',\n",
    "    y_variable = 'rewards',\n",
    "    f = lambda x: sum(x)\n",
    ")\n",
    "plt.show()"
   ]
  },
  {
   "cell_type": "code",
   "execution_count": null,
   "metadata": {},
   "outputs": [],
   "source": []
  }
 ],
 "metadata": {
  "kernelspec": {
   "display_name": "minihack",
   "language": "python",
   "name": "python3"
  },
  "language_info": {
   "codemirror_mode": {
    "name": "ipython",
    "version": 3
   },
   "file_extension": ".py",
   "mimetype": "text/x-python",
   "name": "python",
   "nbconvert_exporter": "python",
   "pygments_lexer": "ipython3",
   "version": "3.10.12"
  }
 },
 "nbformat": 4,
 "nbformat_minor": 2
}
